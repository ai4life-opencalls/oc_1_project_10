{
 "cells": [
  {
   "cell_type": "code",
   "execution_count": 3,
   "metadata": {},
   "outputs": [
    {
     "name": "stderr",
     "output_type": "stream",
     "text": [
      "/Users/mehdi.seifi/miniconda3/envs/project10/lib/python3.9/site-packages/pandas/core/arrays/masked.py:60: UserWarning: Pandas requires version '1.3.6' or newer of 'bottleneck' (version '1.3.5' currently installed).\n",
      "  from pandas.core import (\n"
     ]
    }
   ],
   "source": [
    "import json\n",
    "from pathlib import Path\n",
    "\n",
    "import numpy as np\n",
    "import pandas as pd\n",
    "import flowkit as fk\n",
    "\n",
    "import ipywidgets as widgets\n",
    "from tqdm.notebook import tqdm\n",
    "\n",
    "from utils import ask_directory\n",
    "from data import get_df\n",
    "from logicle_scaling import logicle_transform\n",
    "\n",
    "\n",
    "SEED = 7\n",
    "np.random.seed(SEED)"
   ]
  },
  {
   "cell_type": "markdown",
   "metadata": {},
   "source": [
    "### Set the raw data directory (*FCS* files):"
   ]
  },
  {
   "cell_type": "code",
   "execution_count": 4,
   "metadata": {},
   "outputs": [],
   "source": [
    "raw_data_dir = ask_directory(title=\"Select your data directory\")\n",
    "\n",
    "print(raw_data_dir)"
   ]
  },
  {
   "cell_type": "code",
   "execution_count": 6,
   "metadata": {},
   "outputs": [],
   "source": [
    "raw_data_dir = Path(raw_data_dir)\n",
    "fcs_files = raw_data_dir.glob(\"**/*.fcs\")\n",
    "sample_files = []\n",
    "for fcs in fcs_files:\n",
    "    has_images = len(list(fcs.parent.glob(\"*images\"))) > 0\n",
    "    sample_files.append((fcs, has_images))"
   ]
  },
  {
   "cell_type": "markdown",
   "metadata": {},
   "source": [
    "### Select samples to transform into the Logicle scale:"
   ]
  },
  {
   "cell_type": "code",
   "execution_count": 5,
   "metadata": {},
   "outputs": [
    {
     "data": {
      "application/vnd.jupyter.widget-view+json": {
       "model_id": "51f53496813d4fada882402841d00df6",
       "version_major": 2,
       "version_minor": 0
      },
      "text/plain": [
       "SelectMultiple(description='Select Samples:', index=(1, 2, 3, 4, 5, 9), options=('Amphidinium.fcs (images: Fal…"
      ]
     },
     "metadata": {},
     "output_type": "display_data"
    }
   ],
   "source": [
    "selector = widgets.SelectMultiple(\n",
    "    options=[f\"{item[0].name} (images: {item[1]})\" for item in sample_files],\n",
    "    value=[f\"{item[0].name} (images: {item[1]})\" for item in sample_files if item[1]],\n",
    "    rows=14,\n",
    "    description=\"Select Samples:\"\n",
    ")\n",
    "\n",
    "display(selector)"
   ]
  },
  {
   "cell_type": "markdown",
   "metadata": {},
   "source": [
    "### Select the folder where you want to save transformed data:"
   ]
  },
  {
   "cell_type": "code",
   "execution_count": 17,
   "metadata": {},
   "outputs": [],
   "source": [
    "root = tk.Tk()\n",
    "root.overrideredirect(1)\n",
    "root.withdraw()\n",
    "\n",
    "transformed_data_dir = filedialog.askdirectory(\n",
    "    title=\"Where to save transformed data\",\n",
    "    mustexist=False,\n",
    "    parent=root\n",
    ")\n",
    "\n",
    "root.quit()\n",
    "root.destroy()"
   ]
  },
  {
   "cell_type": "code",
   "execution_count": 18,
   "metadata": {},
   "outputs": [
    {
     "name": "stdout",
     "output_type": "stream",
     "text": [
      "/Users/mehdi.seifi/Projects/AI4Life/project_10_sorting/data/transformed_data\n"
     ]
    }
   ],
   "source": [
    "transformed_data_dir = Path(transformed_data_dir)\n",
    "transformed_data_dir.mkdir(exist_ok=True, parents=True)\n",
    "\n",
    "print(transformed_data_dir)"
   ]
  },
  {
   "cell_type": "code",
   "execution_count": 19,
   "metadata": {},
   "outputs": [],
   "source": [
    "# save configs\n",
    "with open(\"./config.json\", mode=\"w\") as f:\n",
    "    json.dump({\n",
    "        \"raw_data_dir\": str(raw_data_dir.absolute()),\n",
    "        \"logicle_data_dir\": str(transformed_data_dir.absolute())\n",
    "    }, f, indent=4)"
   ]
  },
  {
   "cell_type": "markdown",
   "metadata": {},
   "source": [
    "### Cleaning data and dropping uninformative channels (columns)"
   ]
  },
  {
   "cell_type": "code",
   "execution_count": 8,
   "metadata": {},
   "outputs": [],
   "source": [
    "selected_samples = [sample_files[i] for i in selector.index]"
   ]
  },
  {
   "cell_type": "code",
   "execution_count": 9,
   "metadata": {},
   "outputs": [
    {
     "data": {
      "application/vnd.jupyter.widget-view+json": {
       "model_id": "e1a4d6857e724b34b049bbaccc37fe0c",
       "version_major": 2,
       "version_minor": 0
      },
      "text/plain": [
       "processing/cleaning samples:   0%|          | 0/6 [00:00<?, ?it/s]"
      ]
     },
     "metadata": {},
     "output_type": "display_data"
    },
    {
     "name": "stdout",
     "output_type": "stream",
     "text": [
      "proessing Skeletonema\n",
      "proessing Lingodinium\n",
      "proessing C.6818\n",
      "proessing Emiliana_huxley\n",
      "proessing Phaeodactylum\n",
      "proessing Synechococcus\n"
     ]
    }
   ],
   "source": [
    "# process samples dataframes and drop uninformative columns\n",
    "dataframes = {}\n",
    "all_drop_cols = [\"Saturated\", \"Time\"]\n",
    "\n",
    "for path, _ in tqdm(selected_samples, desc=\"processing/cleaning samples\"):\n",
    "    name = path.stem\n",
    "    print(f\"proessing {name}\")\n",
    "    df, drop_cols = get_df(path)\n",
    "    dataframes[name] = df\n",
    "    all_drop_cols.extend(drop_cols)"
   ]
  },
  {
   "cell_type": "code",
   "execution_count": 10,
   "metadata": {},
   "outputs": [],
   "source": [
    "all_drop_cols = set(all_drop_cols)\n",
    "dataframes = {\n",
    "    name: df.drop(columns=all_drop_cols, errors=\"ignore\")\n",
    "    for name, df in dataframes.items()\n",
    "}"
   ]
  },
  {
   "cell_type": "markdown",
   "metadata": {},
   "source": [
    "### Transform selected data into the Logicle scale:"
   ]
  },
  {
   "cell_type": "code",
   "execution_count": 11,
   "metadata": {},
   "outputs": [
    {
     "data": {
      "application/vnd.jupyter.widget-view+json": {
       "model_id": "db27d018ab744cf38ec93e354f23e930",
       "version_major": 2,
       "version_minor": 0
      },
      "text/plain": [
       "Dataframes:   0%|          | 0/6 [00:00<?, ?it/s]"
      ]
     },
     "metadata": {},
     "output_type": "display_data"
    },
    {
     "data": {
      "application/vnd.jupyter.widget-view+json": {
       "model_id": "c6915d05dd804cab9973e8abeab35060",
       "version_major": 2,
       "version_minor": 0
      },
      "text/plain": [
       "Skeletonema: applying logicle transform on channels:   0%|          | 0/421 [00:00<?, ?it/s]"
      ]
     },
     "metadata": {},
     "output_type": "display_data"
    },
    {
     "data": {
      "application/vnd.jupyter.widget-view+json": {
       "model_id": "ff31f08f3a654d2fbeac4ded778bfadb",
       "version_major": 2,
       "version_minor": 0
      },
      "text/plain": [
       "Lingodinium: applying logicle transform on channels:   0%|          | 0/421 [00:00<?, ?it/s]"
      ]
     },
     "metadata": {},
     "output_type": "display_data"
    },
    {
     "data": {
      "application/vnd.jupyter.widget-view+json": {
       "model_id": "a0a043d8832d4e499777ad5c29f21cf5",
       "version_major": 2,
       "version_minor": 0
      },
      "text/plain": [
       "C.6818: applying logicle transform on channels:   0%|          | 0/421 [00:00<?, ?it/s]"
      ]
     },
     "metadata": {},
     "output_type": "display_data"
    },
    {
     "data": {
      "application/vnd.jupyter.widget-view+json": {
       "model_id": "ab7b1c5400da49cba5444e4cb40aeb50",
       "version_major": 2,
       "version_minor": 0
      },
      "text/plain": [
       "Emiliana_huxley: applying logicle transform on channels:   0%|          | 0/421 [00:00<?, ?it/s]"
      ]
     },
     "metadata": {},
     "output_type": "display_data"
    },
    {
     "data": {
      "application/vnd.jupyter.widget-view+json": {
       "model_id": "db951ff7dcf349a89039f5a5a30750cc",
       "version_major": 2,
       "version_minor": 0
      },
      "text/plain": [
       "Phaeodactylum: applying logicle transform on channels:   0%|          | 0/421 [00:00<?, ?it/s]"
      ]
     },
     "metadata": {},
     "output_type": "display_data"
    },
    {
     "data": {
      "application/vnd.jupyter.widget-view+json": {
       "model_id": "8831fa086acd47d5ac9551665fee74df",
       "version_major": 2,
       "version_minor": 0
      },
      "text/plain": [
       "Synechococcus: applying logicle transform on channels:   0%|          | 0/421 [00:00<?, ?it/s]"
      ]
     },
     "metadata": {},
     "output_type": "display_data"
    }
   ],
   "source": [
    "logicle_dataframes = {}\n",
    "logicle_cols = [\n",
    "    \"top_of_scale\", \"m_positive_decades\",\n",
    "    \"width_of_linear\", \"addition_negative\"\n",
    "]\n",
    "\n",
    "for name in tqdm(dataframes.keys(), desc=\"Dataframes\", position=0):\n",
    "    # hdf5 storage\n",
    "    storage = pd.HDFStore(transformed_data_dir.joinpath(f\"./{name}.h5\"), mode=\"w\")\n",
    "\n",
    "    logicle_transforms = {}\n",
    "    df = dataframes[name].copy()\n",
    "    for col in tqdm(df.columns, desc=f\"{name}: applying logicle transform on channels\", position=1, leave=True):\n",
    "        df[col], logicle = logicle_transform(df[col].to_numpy(), return_transform=True)\n",
    "        logicle_transforms[col] = logicle.get_params()\n",
    "    \n",
    "    storage[\"df\"] = df\n",
    "    storage[\"logicles\"] = pd.DataFrame(\n",
    "        data=list(logicle_transforms.values()),\n",
    "        index=list(logicle_transforms.keys()),\n",
    "        columns=logicle_cols\n",
    "    )\n",
    "\n",
    "    storage.close()\n",
    "\n",
    "    logicle_dataframes[name] = df"
   ]
  },
  {
   "cell_type": "code",
   "execution_count": null,
   "metadata": {},
   "outputs": [],
   "source": []
  }
 ],
 "metadata": {
  "kernelspec": {
   "display_name": "Python 3 (ipykernel)",
   "language": "python",
   "name": "python3"
  },
  "language_info": {
   "codemirror_mode": {
    "name": "ipython",
    "version": 3
   },
   "file_extension": ".py",
   "mimetype": "text/x-python",
   "name": "python",
   "nbconvert_exporter": "python",
   "pygments_lexer": "ipython3",
   "version": "3.9.18"
  }
 },
 "nbformat": 4,
 "nbformat_minor": 4
}
