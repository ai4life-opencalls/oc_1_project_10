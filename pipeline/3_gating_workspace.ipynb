{
 "cells": [
  {
   "cell_type": "code",
   "execution_count": null,
   "metadata": {
    "tags": []
   },
   "outputs": [],
   "source": [
    "import itertools\n",
    "import json\n",
    "import pickle\n",
    "from pathlib import Path\n",
    "from collections import defaultdict\n",
    "from pprint import pprint\n",
    "\n",
    "import numpy as np\n",
    "import pandas as pd\n",
    "import flowkit as fk\n",
    "import matplotlib as mpl\n",
    "import matplotlib.pyplot as plt\n",
    "from scipy.spatial import ConvexHull\n",
    "\n",
    "import ipywidgets as widgets\n",
    "from ipydatagrid import Expr, DataGrid, TextRenderer, BarRenderer\n",
    "from tqdm.notebook import tqdm\n",
    "\n",
    "from utils import ask_directory\n",
    "from logicle_scaling import LogicleTransform\n",
    "from pair_precision import (\n",
    "    get_bin_centers,\n",
    "    inverse_logicle,\n",
    "    get_logicle_polygon_gates,\n",
    "    get_pair_precisions\n",
    ")\n",
    "\n",
    "\n",
    "SEED = 7\n",
    "np.random.seed(SEED)"
   ]
  },
  {
   "cell_type": "code",
   "execution_count": null,
   "metadata": {
    "tags": []
   },
   "outputs": [],
   "source": [
    "# load config from the previous step, if it's available\n",
    "config = {}\n",
    "config_file = Path(\"./config.json\")\n",
    "if config_file.exists():\n",
    "    with open(config_file, mode=\"r\") as f:\n",
    "        config = json.load(f)\n",
    "\n",
    "config"
   ]
  },
  {
   "cell_type": "code",
   "execution_count": null,
   "metadata": {
    "tags": []
   },
   "outputs": [],
   "source": [
    "raw_data_dir = config.get(\"raw_data_dir\", None)\n",
    "\n",
    "if raw_data_dir is None:\n",
    "    raw_data_dir = ask_directory(\"Select your data directory\")\n",
    "\n",
    "raw_data_dir = Path(raw_data_dir)\n",
    "print(raw_data_dir)"
   ]
  },
  {
   "cell_type": "markdown",
   "metadata": {},
   "source": [
    "### Select the Logicle transformed directory:"
   ]
  },
  {
   "cell_type": "code",
   "execution_count": null,
   "metadata": {
    "tags": []
   },
   "outputs": [],
   "source": [
    "transformed_data_dir = config.get(\"logicle_data_dir\", None)\n",
    "if transformed_data_dir is None:\n",
    "    transformed_data_dir = ask_directory(\"Select directory of the transformed data\")\n",
    "\n",
    "transformed_data_dir = Path(transformed_data_dir)\n",
    "print(transformed_data_dir)"
   ]
  },
  {
   "cell_type": "code",
   "execution_count": null,
   "metadata": {
    "tags": []
   },
   "outputs": [],
   "source": [
    "logicle_samples = {}\n",
    "h5_files = transformed_data_dir.glob(\"*.h5\")\n",
    "for file in h5_files:\n",
    "    logicle_samples[file.stem] = file\n",
    "\n",
    "pprint(logicle_samples)"
   ]
  },
  {
   "cell_type": "markdown",
   "metadata": {},
   "source": [
    "### Select the target species:"
   ]
  },
  {
   "cell_type": "code",
   "execution_count": null,
   "metadata": {
    "tags": []
   },
   "outputs": [],
   "source": [
    "selector = widgets.Select(\n",
    "    options=[sp_name for sp_name in logicle_samples],\n",
    "    rows=14,\n",
    "    description=\"Select Target Sample:\"\n",
    ")\n",
    "\n",
    "display(selector)"
   ]
  },
  {
   "cell_type": "code",
   "execution_count": null,
   "metadata": {
    "tags": []
   },
   "outputs": [],
   "source": [
    "target_species = selector.value\n",
    "print(f\"Your target species: {target_species}\")"
   ]
  },
  {
   "cell_type": "markdown",
   "metadata": {},
   "source": [
    "### Load the thresholded similarity mask from the previous step:"
   ]
  },
  {
   "cell_type": "code",
   "execution_count": null,
   "metadata": {
    "tags": []
   },
   "outputs": [],
   "source": [
    "high_sim_mask = np.load(f\"./results/{target_species}_high_sim_mask.npy\")\n",
    "high_sim_mask.shape"
   ]
  },
  {
   "cell_type": "markdown",
   "metadata": {},
   "source": [
    "### Select gates (channel pairs) for the gating strategy:\n",
    "You can select multiple rows (hold Ctrl/CMD or Shift)"
   ]
  },
  {
   "cell_type": "code",
   "execution_count": null,
   "metadata": {
    "tags": []
   },
   "outputs": [],
   "source": [
    "# load pair precisions result\n",
    "df_pair_precisions = pd.read_csv(f\"./results/{target_species}_gate_precisions.csv\")\n",
    "df_pair_precisions.index += 1"
   ]
  },
  {
   "cell_type": "code",
   "execution_count": null,
   "metadata": {
    "tags": []
   },
   "outputs": [],
   "source": [
    "datagrid = DataGrid(\n",
    "    df_pair_precisions,\n",
    "    base_row_header_size=40, base_column_header_size=40,\n",
    "    base_row_size=30, base_column_size=150,\n",
    "    selection_mode=\"row\", auto_fit_columns=True\n",
    ")\n",
    "datagrid"
   ]
  },
  {
   "cell_type": "code",
   "execution_count": null,
   "metadata": {
    "tags": []
   },
   "outputs": [],
   "source": [
    "selected_rows = list(set([cell[\"r\"] for cell in datagrid.selected_cells]))\n",
    "df_selected_pairs = df_pair_precisions.iloc[selected_rows]\n",
    "df_selected_pairs"
   ]
  },
  {
   "cell_type": "markdown",
   "metadata": {},
   "source": [
    "### Load logicle parameters for inverse transform."
   ]
  },
  {
   "cell_type": "code",
   "execution_count": null,
   "metadata": {
    "tags": []
   },
   "outputs": [],
   "source": [
    "# get the target species logicle params\n",
    "df_logicle_params = pd.read_hdf(logicle_samples[target_species], key=\"logicles\")\n",
    "df_logicle_params.shape"
   ]
  },
  {
   "cell_type": "code",
   "execution_count": null,
   "metadata": {
    "tags": []
   },
   "outputs": [],
   "source": [
    "logicle_params = [\n",
    "    df_logicle_params.loc[[row[0], row[1]]].to_numpy() for row in\n",
    "    df_selected_pairs.itertuples(index=False, name=None)\n",
    "]"
   ]
  },
  {
   "cell_type": "markdown",
   "metadata": {},
   "source": [
    "### Select all samples (*.fcs) as the strategy inputs:\n",
    "(Hold Ctrl/CMD or Shift)"
   ]
  },
  {
   "cell_type": "code",
   "execution_count": null,
   "metadata": {
    "tags": []
   },
   "outputs": [],
   "source": [
    "raw_data_dir = Path(raw_data_dir)\n",
    "fcs_files = raw_data_dir.glob(\"**/*.fcs\")\n",
    "sample_paths = {}\n",
    "for fcs in fcs_files:\n",
    "    # has_images = len(list(fcs.parent.glob(\"*images\"))) > 0\n",
    "    # if has_images:\n",
    "    sample_paths[fcs.stem] = fcs\n",
    "\n",
    "# pprint(sample_paths)\n",
    "selector = widgets.SelectMultiple(\n",
    "    options=[sp_name for sp_name in sample_paths],\n",
    "    rows=14,\n",
    "    description=\"Select input samples:\"\n",
    ")\n",
    "\n",
    "display(selector)"
   ]
  },
  {
   "cell_type": "code",
   "execution_count": null,
   "metadata": {
    "tags": []
   },
   "outputs": [],
   "source": [
    "input_samples = [\n",
    "    fk.Sample(sample_paths[name], sample_id=name)\n",
    "    for name in selector.value\n",
    "]\n",
    "input_samples"
   ]
  },
  {
   "cell_type": "markdown",
   "metadata": {},
   "source": [
    "### Generate the gating strategy based on the selected pairs:"
   ]
  },
  {
   "cell_type": "code",
   "execution_count": null,
   "metadata": {
    "tags": []
   },
   "outputs": [],
   "source": [
    "def get_logicle_polygon(high_sim_data):\n",
    "    high_sim_bin_centers = get_bin_centers(high_sim_data)\n",
    "    try:\n",
    "        # get convex hull polygon\n",
    "        hull = ConvexHull(high_sim_bin_centers)\n",
    "        polygon = high_sim_bin_centers[hull.vertices]\n",
    "    except Exception:\n",
    "        polygon = None\n",
    "\n",
    "    return polygon"
   ]
  },
  {
   "cell_type": "code",
   "execution_count": null,
   "metadata": {
    "tags": []
   },
   "outputs": [],
   "source": [
    "def run_session(gating, input_samples):\n",
    "    session = fk.Session(\n",
    "        gating_strategy=gating,\n",
    "        fcs_samples=input_samples\n",
    "    )\n",
    "    session.analyze_samples(use_mp=True, verbose=False)\n",
    "\n",
    "    return session"
   ]
  },
  {
   "cell_type": "code",
   "execution_count": null,
   "metadata": {
    "tags": []
   },
   "outputs": [],
   "source": [
    "df_positive_logicle = pd.read_hdf(logicle_samples[target_species], key=\"df\")\n",
    "df_positive_logicle.shape"
   ]
  },
  {
   "cell_type": "code",
   "execution_count": null,
   "metadata": {
    "tags": []
   },
   "outputs": [],
   "source": [
    "gating = fk.GatingStrategy()\n",
    "parents = [\"root\"]\n",
    "\n",
    "sim_mask = high_sim_mask.copy()\n",
    "logicle_polygons = []\n",
    "data_polygons = []\n",
    "count = 0\n",
    "\n",
    "for row in tqdm(\n",
    "    df_selected_pairs.itertuples(index=False, name=None),\n",
    "    total=len(df_selected_pairs) ,desc=\"Generating gating strategy\"\n",
    "):\n",
    "    ch1 = row[0]\n",
    "    ch2 = row[1]\n",
    "    sim_data = df_positive_logicle[[ch1, ch2]][sim_mask].to_numpy()\n",
    "    logicle_polygon = get_logicle_polygon(sim_data)\n",
    "    logicle_polygons.append(logicle_polygon)\n",
    "\n",
    "    if logicle_polygon is not None:\n",
    "        data_polygon = inverse_logicle(logicle_polygon, logicle_params[count])\n",
    "        data_polygons.append(data_polygon)\n",
    "        # create and add the gate\n",
    "        dim1 = fk.Dimension(ch1)\n",
    "        dim2 = fk.Dimension(ch2)\n",
    "        gate = fk.gates.PolygonGate(\n",
    "            gate_name=f\"g{count + 1}\", dimensions=[dim1, dim2],\n",
    "            vertices=data_polygon.tolist()\n",
    "        )\n",
    "        gating.add_gate(gate, tuple(parents))\n",
    "        # run gating in a session\n",
    "        session = run_session(gating, input_samples)\n",
    "        target_in = session.get_gate_membership(target_species, gate.gate_name)\n",
    "        sim_mask = sim_mask & target_in\n",
    "        print(f\"number of targets passed through the gate: {target_in.sum()}\")\n",
    "\n",
    "        parents.append(f\"g{count + 1}\")\n",
    "        count += 1"
   ]
  },
  {
   "cell_type": "code",
   "execution_count": null,
   "metadata": {
    "tags": []
   },
   "outputs": [],
   "source": [
    "gating.get_gate_hierarchy()"
   ]
  },
  {
   "cell_type": "markdown",
   "metadata": {},
   "source": [
    "### Strategy results:"
   ]
  },
  {
   "cell_type": "code",
   "execution_count": null,
   "metadata": {
    "tags": []
   },
   "outputs": [],
   "source": [
    "session = run_session(gating, input_samples)\n",
    "df_report = session.get_analysis_report()\n",
    "df_report"
   ]
  },
  {
   "cell_type": "code",
   "execution_count": null,
   "metadata": {
    "tags": []
   },
   "outputs": [],
   "source": [
    "print(target_species)\n",
    "\n",
    "df_last_gate = df_report[df_report[\"gate_name\"] == f\"g{len(logicle_polygons)}\"]\n",
    "df_last_gate[\n",
    "    [\"sample\", \"gate_name\", \"count\"]\n",
    "].groupby([\"sample\"]).sum(numeric_only=True)"
   ]
  },
  {
   "cell_type": "markdown",
   "metadata": {},
   "source": [
    "### Save the workspace:"
   ]
  },
  {
   "cell_type": "code",
   "execution_count": null,
   "metadata": {
    "tags": []
   },
   "outputs": [],
   "source": [
    "Path(\"./workspaces\").mkdir(exist_ok=True)\n",
    "session.export_wsp(f\"./workspaces/{target_species}_gating_strategy.wsp\", \"samples\")"
   ]
  },
  {
   "cell_type": "markdown",
   "metadata": {},
   "source": [
    "### Ploting the gates"
   ]
  },
  {
   "cell_type": "code",
   "execution_count": null,
   "metadata": {
    "tags": []
   },
   "outputs": [],
   "source": [
    "# gate visualization\n",
    "\n",
    "df_target = pd.read_hdf(logicle_samples[target_species], key=\"df\")\n",
    "\n",
    "others_sample_ids = []\n",
    "df_others = []\n",
    "for sample_name in logicle_samples:\n",
    "    if sample_name != target_species:\n",
    "        others_sample_ids.append(sample_name)\n",
    "        df_others.append(pd.read_hdf(logicle_samples[sample_name], key=\"df\"))\n",
    "\n",
    "# df_others = pd.concat(df_others)"
   ]
  },
  {
   "cell_type": "code",
   "execution_count": null,
   "metadata": {
    "tags": []
   },
   "outputs": [],
   "source": [
    "count = 0\n",
    "all_memberships = defaultdict(list)\n",
    "\n",
    "for i, row in df_selected_pairs.iterrows():\n",
    "    ch1 = row[\"channel_1\"]\n",
    "    ch2 = row[\"channel_2\"]\n",
    "\n",
    "    gate_name = f\"g{count + 1}\"\n",
    "    target_memberships = session.get_gate_membership(\n",
    "        target_species, gate_name\n",
    "    )\n",
    "    print(f\"\\n\\n{target_species}: {target_memberships.sum():,d}\")\n",
    "    all_memberships[\"target\"].append(target_memberships.tolist())\n",
    "\n",
    "    fig, ax = plt.subplots(1, 1, figsize=(7, 5.7))\n",
    "    if count == 0:\n",
    "        ax.scatter(\n",
    "            df_target[ch2][target_memberships],\n",
    "            df_target[ch1][target_memberships],\n",
    "            color=\"limegreen\", lw=0, s=9, zorder=999, label=\"target (alive)\"\n",
    "        )\n",
    "        ax.scatter(\n",
    "            df_target[ch2][~target_memberships],\n",
    "            df_target[ch1][~target_memberships],\n",
    "            color=\"grey\", lw=0, s=5, alpha=0.2, label=\"others\"\n",
    "        )\n",
    "    else:\n",
    "        mask = target_memberships & all_memberships[\"target\"][count - 1]\n",
    "        ax.scatter(\n",
    "            df_target[ch2][mask],\n",
    "            df_target[ch1][mask],\n",
    "            color=\"limegreen\", lw=0, s=9, zorder=999, label=\"target (alive)\"\n",
    "        )\n",
    "        mask = ~target_memberships & all_memberships[\"target\"][count - 1]\n",
    "        ax.scatter(\n",
    "            df_target[ch2][mask],\n",
    "            df_target[ch1][mask],\n",
    "            color=\"grey\", lw=0, s=5, alpha=0.2, label=\"others\"\n",
    "        )\n",
    "\n",
    "    for n, df in enumerate(df_others):\n",
    "        memberships = session.get_gate_membership(\n",
    "            others_sample_ids[n], gate_name\n",
    "        )\n",
    "        all_memberships[others_sample_ids[n]].append(memberships)\n",
    "        print(f\"{others_sample_ids[n]}: {memberships.sum():,d}\")\n",
    "        if count == 0:\n",
    "            ax.scatter(\n",
    "                df[ch2][memberships],\n",
    "                df[ch1][memberships],\n",
    "                color=\"salmon\", lw=0, s=9, label=\"others (FP)\"\n",
    "            )\n",
    "            ax.scatter(\n",
    "                df[ch2][~memberships],\n",
    "                df[ch1][~memberships],\n",
    "                color=\"grey\", lw=0, s=5, alpha=0.2, label=\"others\"\n",
    "            )\n",
    "        else:\n",
    "            mask = memberships & all_memberships[others_sample_ids[n]][count - 1]\n",
    "            ax.scatter(\n",
    "                df[ch2][mask],\n",
    "                df[ch1][mask],\n",
    "                color=\"salmon\", lw=0, s=9, label=\"others (FP)\"\n",
    "            )\n",
    "            mask = ~memberships & all_memberships[others_sample_ids[n]][count - 1]\n",
    "            ax.scatter(\n",
    "                df[ch2][mask],\n",
    "                df[ch1][mask],\n",
    "                color=\"grey\", lw=0, s=5, alpha=0.2, label=\"others\"\n",
    "            )\n",
    "\n",
    "    polygon = logicle_polygons[count]\n",
    "    mpl_polygon = mpl.patches.Polygon(\n",
    "        polygon[:, [1, 0]], fill=False, edgecolor=\"indigo\", \n",
    "        lw=1.2, zorder=999\n",
    "    )\n",
    "    ax.add_patch(mpl_polygon)\n",
    "\n",
    "    ax.set_title(f\"{gate_name} ({target_species}, logicle)\")\n",
    "    ax.set_xlabel(ch2)\n",
    "    ax.set_ylabel(ch1)\n",
    "    ax.grid(alpha=0.25)\n",
    "    # legend\n",
    "    elements = [\n",
    "        mpl.lines.Line2D(\n",
    "            [0], [0], marker=\"o\", color=\"w\", label=\"Target (Alive)\",\n",
    "            markerfacecolor=\"limegreen\", markersize=5,\n",
    "        ),\n",
    "        mpl.lines.Line2D(\n",
    "            [0], [0], marker=\"o\", color=\"w\", label=\"Others (FP)\",\n",
    "            markerfacecolor=\"salmon\", markersize=5,\n",
    "        ),\n",
    "        mpl.lines.Line2D(\n",
    "            [0], [0], marker=\"o\", color=\"w\", label=\"Others\",\n",
    "            markerfacecolor=\"grey\", markersize=5, alpha=0.5\n",
    "        ),\n",
    "    ]\n",
    "    ax.legend(handles=elements, framealpha=0.5, loc=\"lower right\")\n",
    "\n",
    "    plt.show()\n",
    "\n",
    "    count += 1"
   ]
  },
  {
   "cell_type": "code",
   "execution_count": null,
   "metadata": {},
   "outputs": [],
   "source": []
  }
 ],
 "metadata": {
  "kernelspec": {
   "display_name": "Python 3 (ipykernel)",
   "language": "python",
   "name": "python3"
  },
  "language_info": {
   "codemirror_mode": {
    "name": "ipython",
    "version": 3
   },
   "file_extension": ".py",
   "mimetype": "text/x-python",
   "name": "python",
   "nbconvert_exporter": "python",
   "pygments_lexer": "ipython3",
   "version": "3.9.18"
  }
 },
 "nbformat": 4,
 "nbformat_minor": 4
}
