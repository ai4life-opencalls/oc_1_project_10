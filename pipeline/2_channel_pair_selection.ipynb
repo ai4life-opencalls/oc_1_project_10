{
 "cells": [
  {
   "cell_type": "code",
   "execution_count": 1,
   "metadata": {
    "tags": []
   },
   "outputs": [],
   "source": [
    "import itertools\n",
    "import json\n",
    "import pickle\n",
    "from pathlib import Path\n",
    "from pprint import pprint\n",
    "\n",
    "import numpy as np\n",
    "import pandas as pd\n",
    "import flowkit as fk\n",
    "import matplotlib.pyplot as plt\n",
    "\n",
    "from sklearn.preprocessing import StandardScaler\n",
    "\n",
    "import ipywidgets as widgets\n",
    "from tqdm.notebook import tqdm\n",
    "\n",
    "from utils import ask_directory\n",
    "from pair_precision import (\n",
    "    get_logicle_polygon_gates,\n",
    "    get_pair_precisions\n",
    ")\n",
    "\n",
    "\n",
    "SEED = 7\n",
    "np.random.seed(SEED)"
   ]
  },
  {
   "cell_type": "code",
   "execution_count": 2,
   "metadata": {
    "tags": []
   },
   "outputs": [],
   "source": [
    "# creat \"results\" folder to keep gate pairs scores and ...\n",
    "Path(\"./results\").mkdir(exist_ok=True)"
   ]
  },
  {
   "cell_type": "code",
   "execution_count": 3,
   "metadata": {
    "tags": []
   },
   "outputs": [],
   "source": [
    "# functions to separate alive vs. others\n",
    "\n",
    "TIFF_NAME_FORMAT = \"{name}_{id:08d}.tiff\"\n",
    "\n",
    "def get_id_from_tiff_path(tiff_path: Path):\n",
    "    return int(tiff_path.stem.split(\"_\")[-1])\n",
    "\n",
    "\n",
    "def get_tiff_filtered_dataframes(dataframes: dict, sample_paths: dict):\n",
    "    results = {}\n",
    "    for sample_name, hdf_path in tqdm(dataframes.items(), desc=\"separating samples with tiff\"):\n",
    "        df = pd.read_hdf(hdf_path, key=\"df\")\n",
    "        image_path = sample_paths[sample_name].parent.joinpath(\"images\")\n",
    "        all_tiffs = list(image_path.glob(\"**/*.tiff\"))\n",
    "        rows_with_tiff = [get_id_from_tiff_path(img_path) for img_path in all_tiffs]\n",
    "        df_with_tiff = df.iloc[rows_with_tiff]\n",
    "        df_without_tiff = df.drop(index=rows_with_tiff)\n",
    "        df_logicles = pd.read_hdf(hdf_path, key=\"logicles\")\n",
    "        print(\n",
    "            f\"{sample_name:<20}: Total: {len(df):<7,d} | With tiff: {len(df_with_tiff):<7,d} | \"\n",
    "            f\"Without tiff: {len(df_without_tiff):,d}.\"\n",
    "        )\n",
    "        results[sample_name] = [df_without_tiff, df_with_tiff, df_logicles]\n",
    "\n",
    "    return results"
   ]
  },
  {
   "cell_type": "code",
   "execution_count": 4,
   "metadata": {
    "tags": []
   },
   "outputs": [
    {
     "data": {
      "text/plain": [
       "{'raw_data_dir': '/Users/mehdi.seifi/Projects/AI4Life/project_10_sorting/data',\n",
       " 'logicle_data_dir': '/Users/mehdi.seifi/Projects/AI4Life/project_10_sorting/data/transformed_data'}"
      ]
     },
     "execution_count": 4,
     "metadata": {},
     "output_type": "execute_result"
    }
   ],
   "source": [
    "# load config from the previous step, if it's available\n",
    "config = {}\n",
    "config_file = Path(\"./config.json\")\n",
    "if config_file.exists():\n",
    "    with open(config_file, mode=\"r\") as f:\n",
    "        config = json.load(f)\n",
    "\n",
    "config"
   ]
  },
  {
   "cell_type": "markdown",
   "metadata": {},
   "source": [
    "### Set the raw data directory (*FCS* files):"
   ]
  },
  {
   "cell_type": "code",
   "execution_count": 5,
   "metadata": {
    "tags": []
   },
   "outputs": [
    {
     "name": "stdout",
     "output_type": "stream",
     "text": [
      "/Users/mehdi.seifi/Projects/AI4Life/project_10_sorting/data\n"
     ]
    }
   ],
   "source": [
    "raw_data_dir = config.get(\"raw_data_dir\", None)\n",
    "\n",
    "if raw_data_dir is None:\n",
    "    raw_data_dir = ask_directory(\"Select your data directory\")\n",
    "\n",
    "raw_data_dir = Path(raw_data_dir)\n",
    "print(raw_data_dir)"
   ]
  },
  {
   "cell_type": "code",
   "execution_count": 6,
   "metadata": {
    "tags": []
   },
   "outputs": [
    {
     "name": "stdout",
     "output_type": "stream",
     "text": [
      "Sample files with images:\n",
      "{'C.6818': PosixPath('/Users/mehdi.seifi/Projects/AI4Life/project_10_sorting/data/C.6818/C.6818.fcs'),\n",
      " 'Emiliana_huxley': PosixPath('/Users/mehdi.seifi/Projects/AI4Life/project_10_sorting/data/Emiliana_huxley/Emiliana_huxley.fcs'),\n",
      " 'Lingodinium': PosixPath('/Users/mehdi.seifi/Projects/AI4Life/project_10_sorting/data/Lingodinium/Lingodinium.fcs'),\n",
      " 'Phaeodactylum': PosixPath('/Users/mehdi.seifi/Projects/AI4Life/project_10_sorting/data/Phaeodactylum/Phaeodactylum.fcs'),\n",
      " 'Skeletonema': PosixPath('/Users/mehdi.seifi/Projects/AI4Life/project_10_sorting/data/Skeletonema/Skeletonema.fcs'),\n",
      " 'Synechococcus': PosixPath('/Users/mehdi.seifi/Projects/AI4Life/project_10_sorting/data/Synechococcus/Synechococcus.fcs')}\n"
     ]
    }
   ],
   "source": [
    "fcs_files = raw_data_dir.glob(\"**/*.fcs\")\n",
    "sample_paths = {}\n",
    "for fcs in fcs_files:\n",
    "    has_images = len(list(fcs.parent.glob(\"*images\"))) > 0\n",
    "    if has_images:\n",
    "        sample_paths[fcs.stem] = fcs\n",
    "\n",
    "print(\"Sample files with images:\")\n",
    "pprint(sample_paths)"
   ]
  },
  {
   "cell_type": "markdown",
   "metadata": {},
   "source": [
    "### Select the Logicle transformed directory:"
   ]
  },
  {
   "cell_type": "code",
   "execution_count": 7,
   "metadata": {
    "tags": []
   },
   "outputs": [
    {
     "name": "stdout",
     "output_type": "stream",
     "text": [
      "/Users/mehdi.seifi/Projects/AI4Life/project_10_sorting/data/transformed_data\n"
     ]
    }
   ],
   "source": [
    "transformed_data_dir = config.get(\"logicle_data_dir\", None)\n",
    "if transformed_data_dir is None:\n",
    "    transformed_data_dir = ask_directory(\"Select directory of the transformed data\")\n",
    "\n",
    "transformed_data_dir = Path(transformed_data_dir)\n",
    "print(transformed_data_dir)"
   ]
  },
  {
   "cell_type": "code",
   "execution_count": 8,
   "metadata": {
    "tags": []
   },
   "outputs": [
    {
     "name": "stdout",
     "output_type": "stream",
     "text": [
      "Logicle transformed data files:\n",
      "{'C.6818': PosixPath('/Users/mehdi.seifi/Projects/AI4Life/project_10_sorting/data/transformed_data/C.6818.h5'),\n",
      " 'Emiliana_huxley': PosixPath('/Users/mehdi.seifi/Projects/AI4Life/project_10_sorting/data/transformed_data/Emiliana_huxley.h5'),\n",
      " 'Lingodinium': PosixPath('/Users/mehdi.seifi/Projects/AI4Life/project_10_sorting/data/transformed_data/Lingodinium.h5'),\n",
      " 'Phaeodactylum': PosixPath('/Users/mehdi.seifi/Projects/AI4Life/project_10_sorting/data/transformed_data/Phaeodactylum.h5'),\n",
      " 'Skeletonema': PosixPath('/Users/mehdi.seifi/Projects/AI4Life/project_10_sorting/data/transformed_data/Skeletonema.h5'),\n",
      " 'Synechococcus': PosixPath('/Users/mehdi.seifi/Projects/AI4Life/project_10_sorting/data/transformed_data/Synechococcus.h5')}\n"
     ]
    }
   ],
   "source": [
    "logicle_samples = {}\n",
    "h5_files = transformed_data_dir.glob(\"*.h5\")\n",
    "for file in h5_files:\n",
    "    logicle_samples[file.stem] = file\n",
    "\n",
    "print(\"Logicle transformed data files:\")\n",
    "pprint(logicle_samples)"
   ]
  },
  {
   "cell_type": "markdown",
   "metadata": {},
   "source": [
    "### Separating alive samples vs. others for each species:"
   ]
  },
  {
   "cell_type": "code",
   "execution_count": 9,
   "metadata": {
    "tags": []
   },
   "outputs": [
    {
     "data": {
      "application/vnd.jupyter.widget-view+json": {
       "model_id": "3618d51beb9f4883a43c53c014cea910",
       "version_major": 2,
       "version_minor": 0
      },
      "text/plain": [
       "separating samples with tiff:   0%|          | 0/6 [00:00<?, ?it/s]"
      ]
     },
     "metadata": {},
     "output_type": "display_data"
    },
    {
     "name": "stdout",
     "output_type": "stream",
     "text": [
      "Synechococcus       : Total: 11,927  | With tiff: 10,000  | Without tiff: 1,927.\n",
      "Lingodinium         : Total: 893,258 | With tiff: 1,276   | Without tiff: 891,982.\n",
      "C.6818              : Total: 299,976 | With tiff: 2,967   | Without tiff: 297,009.\n",
      "Phaeodactylum       : Total: 238,981 | With tiff: 10,000  | Without tiff: 228,981.\n",
      "Skeletonema         : Total: 540,631 | With tiff: 10,000  | Without tiff: 530,631.\n",
      "Emiliana_huxley     : Total: 126,206 | With tiff: 10,000  | Without tiff: 116,206.\n"
     ]
    }
   ],
   "source": [
    "species_dfs = get_tiff_filtered_dataframes(logicle_samples, sample_paths)"
   ]
  },
  {
   "cell_type": "markdown",
   "metadata": {},
   "source": [
    "### Select the target species:"
   ]
  },
  {
   "cell_type": "code",
   "execution_count": 10,
   "metadata": {
    "tags": []
   },
   "outputs": [
    {
     "data": {
      "application/vnd.jupyter.widget-view+json": {
       "model_id": "1ad2cd92c0704a039c035fa1d67c10a7",
       "version_major": 2,
       "version_minor": 0
      },
      "text/plain": [
       "Select(description='Target species:', options=('Synechococcus', 'Lingodinium', 'C.6818', 'Phaeodactylum', 'Ske…"
      ]
     },
     "metadata": {},
     "output_type": "display_data"
    }
   ],
   "source": [
    "selector = widgets.Select(\n",
    "    options=[sp_name for sp_name in species_dfs],\n",
    "    rows=14,\n",
    "    description=\"Target species:\"\n",
    ")\n",
    "\n",
    "display(selector)"
   ]
  },
  {
   "cell_type": "code",
   "execution_count": 11,
   "metadata": {
    "tags": []
   },
   "outputs": [
    {
     "name": "stdout",
     "output_type": "stream",
     "text": [
      "Your target species: Lingodinium\n"
     ]
    }
   ],
   "source": [
    "target_species = selector.value\n",
    "print(f\"Your target species: {target_species}\")"
   ]
  },
  {
   "cell_type": "code",
   "execution_count": 12,
   "metadata": {
    "tags": []
   },
   "outputs": [
    {
     "name": "stdout",
     "output_type": "stream",
     "text": [
      "alive: (1276, 421), others: (1217721, 421)\n"
     ]
    }
   ],
   "source": [
    "# get the target alive samples\n",
    "df_alive = species_dfs[target_species][1]\n",
    "\n",
    "# get others species samples\n",
    "df_others = []\n",
    "for name in species_dfs:\n",
    "    if name != target_species:\n",
    "        df_others.append(species_dfs[name][0])\n",
    "        df_others.append(species_dfs[name][1])\n",
    "\n",
    "df_others = pd.concat(df_others)\n",
    "\n",
    "\n",
    "print(f\"alive: {df_alive.shape}, others: {df_others.shape}\")"
   ]
  },
  {
   "cell_type": "code",
   "execution_count": 13,
   "metadata": {
    "tags": []
   },
   "outputs": [],
   "source": [
    "# to free some memory up\n",
    "del species_dfs"
   ]
  },
  {
   "cell_type": "markdown",
   "metadata": {},
   "source": [
    "### Normalize the data"
   ]
  },
  {
   "cell_type": "code",
   "execution_count": 14,
   "metadata": {
    "tags": []
   },
   "outputs": [
    {
     "data": {
      "text/html": [
       "<style>#sk-container-id-1 {color: black;}#sk-container-id-1 pre{padding: 0;}#sk-container-id-1 div.sk-toggleable {background-color: white;}#sk-container-id-1 label.sk-toggleable__label {cursor: pointer;display: block;width: 100%;margin-bottom: 0;padding: 0.3em;box-sizing: border-box;text-align: center;}#sk-container-id-1 label.sk-toggleable__label-arrow:before {content: \"▸\";float: left;margin-right: 0.25em;color: #696969;}#sk-container-id-1 label.sk-toggleable__label-arrow:hover:before {color: black;}#sk-container-id-1 div.sk-estimator:hover label.sk-toggleable__label-arrow:before {color: black;}#sk-container-id-1 div.sk-toggleable__content {max-height: 0;max-width: 0;overflow: hidden;text-align: left;background-color: #f0f8ff;}#sk-container-id-1 div.sk-toggleable__content pre {margin: 0.2em;color: black;border-radius: 0.25em;background-color: #f0f8ff;}#sk-container-id-1 input.sk-toggleable__control:checked~div.sk-toggleable__content {max-height: 200px;max-width: 100%;overflow: auto;}#sk-container-id-1 input.sk-toggleable__control:checked~label.sk-toggleable__label-arrow:before {content: \"▾\";}#sk-container-id-1 div.sk-estimator input.sk-toggleable__control:checked~label.sk-toggleable__label {background-color: #d4ebff;}#sk-container-id-1 div.sk-label input.sk-toggleable__control:checked~label.sk-toggleable__label {background-color: #d4ebff;}#sk-container-id-1 input.sk-hidden--visually {border: 0;clip: rect(1px 1px 1px 1px);clip: rect(1px, 1px, 1px, 1px);height: 1px;margin: -1px;overflow: hidden;padding: 0;position: absolute;width: 1px;}#sk-container-id-1 div.sk-estimator {font-family: monospace;background-color: #f0f8ff;border: 1px dotted black;border-radius: 0.25em;box-sizing: border-box;margin-bottom: 0.5em;}#sk-container-id-1 div.sk-estimator:hover {background-color: #d4ebff;}#sk-container-id-1 div.sk-parallel-item::after {content: \"\";width: 100%;border-bottom: 1px solid gray;flex-grow: 1;}#sk-container-id-1 div.sk-label:hover label.sk-toggleable__label {background-color: #d4ebff;}#sk-container-id-1 div.sk-serial::before {content: \"\";position: absolute;border-left: 1px solid gray;box-sizing: border-box;top: 0;bottom: 0;left: 50%;z-index: 0;}#sk-container-id-1 div.sk-serial {display: flex;flex-direction: column;align-items: center;background-color: white;padding-right: 0.2em;padding-left: 0.2em;position: relative;}#sk-container-id-1 div.sk-item {position: relative;z-index: 1;}#sk-container-id-1 div.sk-parallel {display: flex;align-items: stretch;justify-content: center;background-color: white;position: relative;}#sk-container-id-1 div.sk-item::before, #sk-container-id-1 div.sk-parallel-item::before {content: \"\";position: absolute;border-left: 1px solid gray;box-sizing: border-box;top: 0;bottom: 0;left: 50%;z-index: -1;}#sk-container-id-1 div.sk-parallel-item {display: flex;flex-direction: column;z-index: 1;position: relative;background-color: white;}#sk-container-id-1 div.sk-parallel-item:first-child::after {align-self: flex-end;width: 50%;}#sk-container-id-1 div.sk-parallel-item:last-child::after {align-self: flex-start;width: 50%;}#sk-container-id-1 div.sk-parallel-item:only-child::after {width: 0;}#sk-container-id-1 div.sk-dashed-wrapped {border: 1px dashed gray;margin: 0 0.4em 0.5em 0.4em;box-sizing: border-box;padding-bottom: 0.4em;background-color: white;}#sk-container-id-1 div.sk-label label {font-family: monospace;font-weight: bold;display: inline-block;line-height: 1.2em;}#sk-container-id-1 div.sk-label-container {text-align: center;}#sk-container-id-1 div.sk-container {/* jupyter's `normalize.less` sets `[hidden] { display: none; }` but bootstrap.min.css set `[hidden] { display: none !important; }` so we also need the `!important` here to be able to override the default hidden behavior on the sphinx rendered scikit-learn.org. See: https://github.com/scikit-learn/scikit-learn/issues/21755 */display: inline-block !important;position: relative;}#sk-container-id-1 div.sk-text-repr-fallback {display: none;}</style><div id=\"sk-container-id-1\" class=\"sk-top-container\"><div class=\"sk-text-repr-fallback\"><pre>StandardScaler()</pre><b>In a Jupyter environment, please rerun this cell to show the HTML representation or trust the notebook. <br />On GitHub, the HTML representation is unable to render, please try loading this page with nbviewer.org.</b></div><div class=\"sk-container\" hidden><div class=\"sk-item\"><div class=\"sk-estimator sk-toggleable\"><input class=\"sk-toggleable__control sk-hidden--visually\" id=\"sk-estimator-id-1\" type=\"checkbox\" checked><label for=\"sk-estimator-id-1\" class=\"sk-toggleable__label sk-toggleable__label-arrow\">StandardScaler</label><div class=\"sk-toggleable__content\"><pre>StandardScaler()</pre></div></div></div></div></div>"
      ],
      "text/plain": [
       "StandardScaler()"
      ]
     },
     "execution_count": 14,
     "metadata": {},
     "output_type": "execute_result"
    }
   ],
   "source": [
    "scaler = StandardScaler()\n",
    "\n",
    "scaler.fit(np.vstack((\n",
    "    df_alive.to_numpy(),\n",
    "    df_others.to_numpy()\n",
    ")))"
   ]
  },
  {
   "cell_type": "code",
   "execution_count": 15,
   "metadata": {
    "tags": []
   },
   "outputs": [],
   "source": [
    "alive_normed = scaler.transform(df_alive.to_numpy())\n",
    "others_normed = scaler.transform(df_others.to_numpy())"
   ]
  },
  {
   "cell_type": "markdown",
   "metadata": {},
   "source": [
    "### Get the Fisher Discriminant Ratio (FDR) for each channel:\n",
    "(For two classes alive vs. others)"
   ]
  },
  {
   "cell_type": "code",
   "execution_count": 16,
   "metadata": {
    "tags": []
   },
   "outputs": [],
   "source": [
    "alive_mu = alive_normed.mean(axis=0)\n",
    "others_mu = others_normed.mean(axis=0)\n",
    "\n",
    "alive_vars = alive_normed.var()\n",
    "others_vars = others_normed.var()"
   ]
  },
  {
   "cell_type": "code",
   "execution_count": 17,
   "metadata": {
    "tags": []
   },
   "outputs": [
    {
     "data": {
      "text/plain": [
       "(421,)"
      ]
     },
     "execution_count": 17,
     "metadata": {},
     "output_type": "execute_result"
    }
   ],
   "source": [
    "fishers = np.power(alive_mu - others_mu, 2) / (alive_vars + others_vars)\n",
    "fishers.shape"
   ]
  },
  {
   "cell_type": "code",
   "execution_count": 18,
   "metadata": {
    "tags": []
   },
   "outputs": [
    {
     "data": {
      "text/html": [
       "<div>\n",
       "<style scoped>\n",
       "    .dataframe tbody tr th:only-of-type {\n",
       "        vertical-align: middle;\n",
       "    }\n",
       "\n",
       "    .dataframe tbody tr th {\n",
       "        vertical-align: top;\n",
       "    }\n",
       "\n",
       "    .dataframe thead th {\n",
       "        text-align: right;\n",
       "    }\n",
       "</style>\n",
       "<table border=\"1\" class=\"dataframe\">\n",
       "  <thead>\n",
       "    <tr style=\"text-align: right;\">\n",
       "      <th></th>\n",
       "      <th>channel</th>\n",
       "      <th>fisher</th>\n",
       "    </tr>\n",
       "  </thead>\n",
       "  <tbody>\n",
       "    <tr>\n",
       "      <th>0</th>\n",
       "      <td>Size (Green*)</td>\n",
       "      <td>25.315002</td>\n",
       "    </tr>\n",
       "    <tr>\n",
       "      <th>1</th>\n",
       "      <td>Size (Orange*)</td>\n",
       "      <td>11.394045</td>\n",
       "    </tr>\n",
       "    <tr>\n",
       "      <th>2</th>\n",
       "      <td>B3 (530)-H</td>\n",
       "      <td>8.771157</td>\n",
       "    </tr>\n",
       "    <tr>\n",
       "      <th>3</th>\n",
       "      <td>V7 (530)-H</td>\n",
       "      <td>8.738846</td>\n",
       "    </tr>\n",
       "    <tr>\n",
       "      <th>4</th>\n",
       "      <td>V6 (515)-H</td>\n",
       "      <td>8.642836</td>\n",
       "    </tr>\n",
       "    <tr>\n",
       "      <th>...</th>\n",
       "      <td>...</td>\n",
       "      <td>...</td>\n",
       "    </tr>\n",
       "    <tr>\n",
       "      <th>416</th>\n",
       "      <td>Eccentricity (FSC)</td>\n",
       "      <td>0.003395</td>\n",
       "    </tr>\n",
       "    <tr>\n",
       "      <th>417</th>\n",
       "      <td>FSC-W</td>\n",
       "      <td>0.001510</td>\n",
       "    </tr>\n",
       "    <tr>\n",
       "      <th>418</th>\n",
       "      <td>Eccentricity (SSC (Imaging))</td>\n",
       "      <td>0.001065</td>\n",
       "    </tr>\n",
       "    <tr>\n",
       "      <th>419</th>\n",
       "      <td>Eccentricity (LightLoss (Imaging))</td>\n",
       "      <td>0.000420</td>\n",
       "    </tr>\n",
       "    <tr>\n",
       "      <th>420</th>\n",
       "      <td>Eccentricity (Red*)</td>\n",
       "      <td>0.000002</td>\n",
       "    </tr>\n",
       "  </tbody>\n",
       "</table>\n",
       "<p>421 rows × 2 columns</p>\n",
       "</div>"
      ],
      "text/plain": [
       "                                channel     fisher\n",
       "0                         Size (Green*)  25.315002\n",
       "1                        Size (Orange*)  11.394045\n",
       "2                            B3 (530)-H   8.771157\n",
       "3                            V7 (530)-H   8.738846\n",
       "4                            V6 (515)-H   8.642836\n",
       "..                                  ...        ...\n",
       "416                  Eccentricity (FSC)   0.003395\n",
       "417                               FSC-W   0.001510\n",
       "418        Eccentricity (SSC (Imaging))   0.001065\n",
       "419  Eccentricity (LightLoss (Imaging))   0.000420\n",
       "420                 Eccentricity (Red*)   0.000002\n",
       "\n",
       "[421 rows x 2 columns]"
      ]
     },
     "execution_count": 18,
     "metadata": {},
     "output_type": "execute_result"
    }
   ],
   "source": [
    "df_fisher = pd.DataFrame(data={\n",
    "    \"channel\": df_alive.columns, \"fisher\": fishers\n",
    "}).sort_values(\"fisher\", ascending=False).reset_index(drop=True)\n",
    "\n",
    "df_fisher"
   ]
  },
  {
   "cell_type": "markdown",
   "metadata": {},
   "source": [
    "### Get fisher score for each possible pair (average of two channels in a pair)"
   ]
  },
  {
   "cell_type": "code",
   "execution_count": 19,
   "metadata": {
    "tags": []
   },
   "outputs": [
    {
     "name": "stdout",
     "output_type": "stream",
     "text": [
      "array([['FSC-A', 'FSC-H'],\n",
      "       ['FSC-A', 'FSC-W'],\n",
      "       ['FSC-A', 'SSC (Violet)-A'],\n",
      "       ...,\n",
      "       ['R6 (780)-T', 'R7 (810)-T'],\n",
      "       ['R6 (780)-T', 'R8 (845)-T'],\n",
      "       ['R7 (810)-T', 'R8 (845)-T']], dtype='<U45')\n"
     ]
    }
   ],
   "source": [
    "all_pairs_cols = np.array(\n",
    "    list(itertools.combinations(df_alive.columns.to_list(), 2))\n",
    ")\n",
    "\n",
    "pprint(all_pairs_cols)"
   ]
  },
  {
   "cell_type": "code",
   "execution_count": 20,
   "metadata": {
    "tags": []
   },
   "outputs": [
    {
     "data": {
      "application/vnd.jupyter.widget-view+json": {
       "model_id": "a7bcb0a02562427ba8f341cc45dbae1f",
       "version_major": 2,
       "version_minor": 0
      },
      "text/plain": [
       "Getting pairs' fishers:   0%|          | 0/88410 [00:00<?, ?it/s]"
      ]
     },
     "metadata": {},
     "output_type": "display_data"
    }
   ],
   "source": [
    "pair_fishers = np.zeros(len(all_pairs_cols))\n",
    "\n",
    "for i, pair in tqdm(\n",
    "    enumerate(all_pairs_cols), total=len(all_pairs_cols), desc=\"Getting pairs' fishers\"\n",
    "):\n",
    "    # print(pair)\n",
    "    fisher_col1 = df_fisher[df_fisher[\"channel\"] == pair[0]][\"fisher\"].to_numpy()[0]\n",
    "    fisher_col2 = df_fisher[df_fisher[\"channel\"] == pair[1]][\"fisher\"].to_numpy()[0]\n",
    "    pair_fishers[i] = (fisher_col1 + fisher_col2) / 2"
   ]
  },
  {
   "cell_type": "code",
   "execution_count": 21,
   "metadata": {
    "tags": []
   },
   "outputs": [
    {
     "data": {
      "text/html": [
       "<div>\n",
       "<style scoped>\n",
       "    .dataframe tbody tr th:only-of-type {\n",
       "        vertical-align: middle;\n",
       "    }\n",
       "\n",
       "    .dataframe tbody tr th {\n",
       "        vertical-align: top;\n",
       "    }\n",
       "\n",
       "    .dataframe thead th {\n",
       "        text-align: right;\n",
       "    }\n",
       "</style>\n",
       "<table border=\"1\" class=\"dataframe\">\n",
       "  <thead>\n",
       "    <tr style=\"text-align: right;\">\n",
       "      <th></th>\n",
       "      <th>channel_1</th>\n",
       "      <th>channel_2</th>\n",
       "      <th>fisher_avg</th>\n",
       "    </tr>\n",
       "  </thead>\n",
       "  <tbody>\n",
       "    <tr>\n",
       "      <th>0</th>\n",
       "      <td>Size (Green*)</td>\n",
       "      <td>Size (Orange*)</td>\n",
       "      <td>18.3545</td>\n",
       "    </tr>\n",
       "    <tr>\n",
       "      <th>1</th>\n",
       "      <td>Size (Green*)</td>\n",
       "      <td>B3 (530)-H</td>\n",
       "      <td>17.0431</td>\n",
       "    </tr>\n",
       "    <tr>\n",
       "      <th>2</th>\n",
       "      <td>Size (Green*)</td>\n",
       "      <td>V7 (530)-H</td>\n",
       "      <td>17.0269</td>\n",
       "    </tr>\n",
       "    <tr>\n",
       "      <th>3</th>\n",
       "      <td>Size (Green*)</td>\n",
       "      <td>V6 (515)-H</td>\n",
       "      <td>16.9789</td>\n",
       "    </tr>\n",
       "    <tr>\n",
       "      <th>4</th>\n",
       "      <td>Size (Green*)</td>\n",
       "      <td>B2 (515)-H</td>\n",
       "      <td>16.8348</td>\n",
       "    </tr>\n",
       "    <tr>\n",
       "      <th>...</th>\n",
       "      <td>...</td>\n",
       "      <td>...</td>\n",
       "      <td>...</td>\n",
       "    </tr>\n",
       "    <tr>\n",
       "      <th>88405</th>\n",
       "      <td>FSC-W</td>\n",
       "      <td>Eccentricity (LightLoss (Imaging))</td>\n",
       "      <td>0.0010</td>\n",
       "    </tr>\n",
       "    <tr>\n",
       "      <th>88406</th>\n",
       "      <td>FSC-W</td>\n",
       "      <td>Eccentricity (Red*)</td>\n",
       "      <td>0.0008</td>\n",
       "    </tr>\n",
       "    <tr>\n",
       "      <th>88407</th>\n",
       "      <td>Eccentricity (SSC (Imaging))</td>\n",
       "      <td>Eccentricity (LightLoss (Imaging))</td>\n",
       "      <td>0.0007</td>\n",
       "    </tr>\n",
       "    <tr>\n",
       "      <th>88408</th>\n",
       "      <td>Eccentricity (SSC (Imaging))</td>\n",
       "      <td>Eccentricity (Red*)</td>\n",
       "      <td>0.0005</td>\n",
       "    </tr>\n",
       "    <tr>\n",
       "      <th>88409</th>\n",
       "      <td>Eccentricity (LightLoss (Imaging))</td>\n",
       "      <td>Eccentricity (Red*)</td>\n",
       "      <td>0.0002</td>\n",
       "    </tr>\n",
       "  </tbody>\n",
       "</table>\n",
       "<p>88410 rows × 3 columns</p>\n",
       "</div>"
      ],
      "text/plain": [
       "                                channel_1                           channel_2  \\\n",
       "0                           Size (Green*)                      Size (Orange*)   \n",
       "1                           Size (Green*)                          B3 (530)-H   \n",
       "2                           Size (Green*)                          V7 (530)-H   \n",
       "3                           Size (Green*)                          V6 (515)-H   \n",
       "4                           Size (Green*)                          B2 (515)-H   \n",
       "...                                   ...                                 ...   \n",
       "88405                               FSC-W  Eccentricity (LightLoss (Imaging))   \n",
       "88406                               FSC-W                 Eccentricity (Red*)   \n",
       "88407        Eccentricity (SSC (Imaging))  Eccentricity (LightLoss (Imaging))   \n",
       "88408        Eccentricity (SSC (Imaging))                 Eccentricity (Red*)   \n",
       "88409  Eccentricity (LightLoss (Imaging))                 Eccentricity (Red*)   \n",
       "\n",
       "       fisher_avg  \n",
       "0         18.3545  \n",
       "1         17.0431  \n",
       "2         17.0269  \n",
       "3         16.9789  \n",
       "4         16.8348  \n",
       "...           ...  \n",
       "88405      0.0010  \n",
       "88406      0.0008  \n",
       "88407      0.0007  \n",
       "88408      0.0005  \n",
       "88409      0.0002  \n",
       "\n",
       "[88410 rows x 3 columns]"
      ]
     },
     "execution_count": 21,
     "metadata": {},
     "output_type": "execute_result"
    }
   ],
   "source": [
    "df_pair_fishers = pd.DataFrame(data={\n",
    "    \"channel_1\": all_pairs_cols[:, 0],\n",
    "    \"channel_2\": all_pairs_cols[:, 1],\n",
    "    \"fisher_avg\": pair_fishers\n",
    "})\n",
    "\n",
    "df_pair_fishers = df_pair_fishers.round(4).sort_values(\n",
    "    \"fisher_avg\", ascending=False).reset_index(drop=True)\n",
    "df_pair_fishers"
   ]
  },
  {
   "cell_type": "markdown",
   "metadata": {},
   "source": [
    "### Top Pairs: \n",
    "\n",
    "#### 1. Select pairs with fisher score above the average"
   ]
  },
  {
   "cell_type": "code",
   "execution_count": 22,
   "metadata": {
    "tags": []
   },
   "outputs": [
    {
     "name": "stdout",
     "output_type": "stream",
     "text": [
      "2.0827\n"
     ]
    }
   ],
   "source": [
    "fisher_mean = df_pair_fishers[\"fisher_avg\"].mean().round(4)\n",
    "print(fisher_mean)"
   ]
  },
  {
   "cell_type": "code",
   "execution_count": 23,
   "metadata": {
    "tags": []
   },
   "outputs": [
    {
     "data": {
      "text/html": [
       "<div>\n",
       "<style scoped>\n",
       "    .dataframe tbody tr th:only-of-type {\n",
       "        vertical-align: middle;\n",
       "    }\n",
       "\n",
       "    .dataframe tbody tr th {\n",
       "        vertical-align: top;\n",
       "    }\n",
       "\n",
       "    .dataframe thead th {\n",
       "        text-align: right;\n",
       "    }\n",
       "</style>\n",
       "<table border=\"1\" class=\"dataframe\">\n",
       "  <thead>\n",
       "    <tr style=\"text-align: right;\">\n",
       "      <th></th>\n",
       "      <th>channel_1</th>\n",
       "      <th>channel_2</th>\n",
       "      <th>fisher_avg</th>\n",
       "    </tr>\n",
       "  </thead>\n",
       "  <tbody>\n",
       "    <tr>\n",
       "      <th>0</th>\n",
       "      <td>Size (Green*)</td>\n",
       "      <td>Size (Orange*)</td>\n",
       "      <td>18.3545</td>\n",
       "    </tr>\n",
       "    <tr>\n",
       "      <th>1</th>\n",
       "      <td>Size (Green*)</td>\n",
       "      <td>B3 (530)-H</td>\n",
       "      <td>17.0431</td>\n",
       "    </tr>\n",
       "    <tr>\n",
       "      <th>2</th>\n",
       "      <td>Size (Green*)</td>\n",
       "      <td>V7 (530)-H</td>\n",
       "      <td>17.0269</td>\n",
       "    </tr>\n",
       "    <tr>\n",
       "      <th>3</th>\n",
       "      <td>Size (Green*)</td>\n",
       "      <td>V6 (515)-H</td>\n",
       "      <td>16.9789</td>\n",
       "    </tr>\n",
       "    <tr>\n",
       "      <th>4</th>\n",
       "      <td>Size (Green*)</td>\n",
       "      <td>B2 (515)-H</td>\n",
       "      <td>16.8348</td>\n",
       "    </tr>\n",
       "    <tr>\n",
       "      <th>...</th>\n",
       "      <td>...</td>\n",
       "      <td>...</td>\n",
       "      <td>...</td>\n",
       "    </tr>\n",
       "    <tr>\n",
       "      <th>37463</th>\n",
       "      <td>Correlation (Green*/Red*)</td>\n",
       "      <td>UV5 (460)-H</td>\n",
       "      <td>2.0831</td>\n",
       "    </tr>\n",
       "    <tr>\n",
       "      <th>37464</th>\n",
       "      <td>UV3 (420)-H</td>\n",
       "      <td>R5 (750)-T</td>\n",
       "      <td>2.0830</td>\n",
       "    </tr>\n",
       "    <tr>\n",
       "      <th>37465</th>\n",
       "      <td>Radial Moment (Green*)</td>\n",
       "      <td>UV15 (655)-A</td>\n",
       "      <td>2.0829</td>\n",
       "    </tr>\n",
       "    <tr>\n",
       "      <th>37466</th>\n",
       "      <td>Short Axis Moment (Red*)</td>\n",
       "      <td>R2 (675)-T</td>\n",
       "      <td>2.0829</td>\n",
       "    </tr>\n",
       "    <tr>\n",
       "      <th>37467</th>\n",
       "      <td>UV5 (460)-H</td>\n",
       "      <td>V8 (545)-W</td>\n",
       "      <td>2.0828</td>\n",
       "    </tr>\n",
       "  </tbody>\n",
       "</table>\n",
       "<p>37468 rows × 3 columns</p>\n",
       "</div>"
      ],
      "text/plain": [
       "                       channel_1       channel_2  fisher_avg\n",
       "0                  Size (Green*)  Size (Orange*)     18.3545\n",
       "1                  Size (Green*)      B3 (530)-H     17.0431\n",
       "2                  Size (Green*)      V7 (530)-H     17.0269\n",
       "3                  Size (Green*)      V6 (515)-H     16.9789\n",
       "4                  Size (Green*)      B2 (515)-H     16.8348\n",
       "...                          ...             ...         ...\n",
       "37463  Correlation (Green*/Red*)     UV5 (460)-H      2.0831\n",
       "37464                UV3 (420)-H      R5 (750)-T      2.0830\n",
       "37465     Radial Moment (Green*)    UV15 (655)-A      2.0829\n",
       "37466   Short Axis Moment (Red*)      R2 (675)-T      2.0829\n",
       "37467                UV5 (460)-H      V8 (545)-W      2.0828\n",
       "\n",
       "[37468 rows x 3 columns]"
      ]
     },
     "execution_count": 23,
     "metadata": {},
     "output_type": "execute_result"
    }
   ],
   "source": [
    "mask = df_pair_fishers[\"fisher_avg\"] > fisher_mean\n",
    "df_pair_fisher_above_mean = df_pair_fishers[mask].reset_index(drop=True)\n",
    "\n",
    "df_pair_fisher_above_mean"
   ]
  },
  {
   "cell_type": "markdown",
   "metadata": {},
   "source": [
    "#### 2. For each channel selected by the previous step, select pairs with having fisher score above the 50% (median):"
   ]
  },
  {
   "cell_type": "code",
   "execution_count": 24,
   "metadata": {
    "tags": []
   },
   "outputs": [],
   "source": [
    "def get_top_pairs(channel_list, df_fisher):\n",
    "    best_matches = []\n",
    "    for channel in tqdm(channel_list, desc=\"Proposing best matches\"):\n",
    "        ch_mask = df_fisher[\"channel_1\"] == channel\n",
    "        if ch_mask.sum() > 0:\n",
    "            channel_pairs = df_fisher[ch_mask].sort_values(\"fisher_avg\", ascending=False)\n",
    "            ch_threshold = np.quantile(channel_pairs[\"fisher_avg\"], 0.5)\n",
    "            top_matches = channel_pairs[channel_pairs[\"fisher_avg\"] >= ch_threshold]\n",
    "            best_matches.append(top_matches)\n",
    "\n",
    "    return pd.concat(best_matches).reset_index(drop=True)"
   ]
  },
  {
   "cell_type": "code",
   "execution_count": 25,
   "metadata": {
    "tags": []
   },
   "outputs": [
    {
     "data": {
      "application/vnd.jupyter.widget-view+json": {
       "model_id": "c8ec37110bf647778af44f1b950c052f",
       "version_major": 2,
       "version_minor": 0
      },
      "text/plain": [
       "Proposing best matches:   0%|          | 0/421 [00:00<?, ?it/s]"
      ]
     },
     "metadata": {},
     "output_type": "display_data"
    },
    {
     "data": {
      "text/html": [
       "<div>\n",
       "<style scoped>\n",
       "    .dataframe tbody tr th:only-of-type {\n",
       "        vertical-align: middle;\n",
       "    }\n",
       "\n",
       "    .dataframe tbody tr th {\n",
       "        vertical-align: top;\n",
       "    }\n",
       "\n",
       "    .dataframe thead th {\n",
       "        text-align: right;\n",
       "    }\n",
       "</style>\n",
       "<table border=\"1\" class=\"dataframe\">\n",
       "  <thead>\n",
       "    <tr style=\"text-align: right;\">\n",
       "      <th></th>\n",
       "      <th>channel_1</th>\n",
       "      <th>channel_2</th>\n",
       "      <th>fisher_avg</th>\n",
       "    </tr>\n",
       "  </thead>\n",
       "  <tbody>\n",
       "    <tr>\n",
       "      <th>0</th>\n",
       "      <td>FSC-A</td>\n",
       "      <td>Size (Green*)</td>\n",
       "      <td>13.1069</td>\n",
       "    </tr>\n",
       "    <tr>\n",
       "      <th>1</th>\n",
       "      <td>FSC-A</td>\n",
       "      <td>Size (Orange*)</td>\n",
       "      <td>6.1465</td>\n",
       "    </tr>\n",
       "    <tr>\n",
       "      <th>2</th>\n",
       "      <td>FSC-A</td>\n",
       "      <td>B3 (530)-H</td>\n",
       "      <td>4.8350</td>\n",
       "    </tr>\n",
       "    <tr>\n",
       "      <th>3</th>\n",
       "      <td>FSC-A</td>\n",
       "      <td>V7 (530)-H</td>\n",
       "      <td>4.8189</td>\n",
       "    </tr>\n",
       "    <tr>\n",
       "      <th>4</th>\n",
       "      <td>FSC-A</td>\n",
       "      <td>V6 (515)-H</td>\n",
       "      <td>4.7709</td>\n",
       "    </tr>\n",
       "    <tr>\n",
       "      <th>...</th>\n",
       "      <td>...</td>\n",
       "      <td>...</td>\n",
       "      <td>...</td>\n",
       "    </tr>\n",
       "    <tr>\n",
       "      <th>18792</th>\n",
       "      <td>R8 (845)-H</td>\n",
       "      <td>UV2 (390)-T</td>\n",
       "      <td>2.6285</td>\n",
       "    </tr>\n",
       "    <tr>\n",
       "      <th>18793</th>\n",
       "      <td>R8 (845)-H</td>\n",
       "      <td>B13 (750)-T</td>\n",
       "      <td>2.6280</td>\n",
       "    </tr>\n",
       "    <tr>\n",
       "      <th>18794</th>\n",
       "      <td>R8 (845)-H</td>\n",
       "      <td>V2 (440)-W</td>\n",
       "      <td>2.6267</td>\n",
       "    </tr>\n",
       "    <tr>\n",
       "      <th>18795</th>\n",
       "      <td>R8 (845)-H</td>\n",
       "      <td>R4 (725)-W</td>\n",
       "      <td>2.6265</td>\n",
       "    </tr>\n",
       "    <tr>\n",
       "      <th>18796</th>\n",
       "      <td>R8 (845)-H</td>\n",
       "      <td>B8 (625)-T</td>\n",
       "      <td>2.6264</td>\n",
       "    </tr>\n",
       "  </tbody>\n",
       "</table>\n",
       "<p>18797 rows × 3 columns</p>\n",
       "</div>"
      ],
      "text/plain": [
       "        channel_1       channel_2  fisher_avg\n",
       "0           FSC-A   Size (Green*)     13.1069\n",
       "1           FSC-A  Size (Orange*)      6.1465\n",
       "2           FSC-A      B3 (530)-H      4.8350\n",
       "3           FSC-A      V7 (530)-H      4.8189\n",
       "4           FSC-A      V6 (515)-H      4.7709\n",
       "...           ...             ...         ...\n",
       "18792  R8 (845)-H     UV2 (390)-T      2.6285\n",
       "18793  R8 (845)-H     B13 (750)-T      2.6280\n",
       "18794  R8 (845)-H      V2 (440)-W      2.6267\n",
       "18795  R8 (845)-H      R4 (725)-W      2.6265\n",
       "18796  R8 (845)-H      B8 (625)-T      2.6264\n",
       "\n",
       "[18797 rows x 3 columns]"
      ]
     },
     "execution_count": 25,
     "metadata": {},
     "output_type": "execute_result"
    }
   ],
   "source": [
    "df_top_pairs = get_top_pairs(df_alive.columns.to_list(), df_pair_fisher_above_mean)\n",
    "df_top_pairs"
   ]
  },
  {
   "cell_type": "code",
   "execution_count": 26,
   "metadata": {
    "tags": []
   },
   "outputs": [],
   "source": [
    "# save the top pairs\n",
    "df_top_pairs.to_csv(f\"./results/{target_species}_top_pairs.csv\", index=False)"
   ]
  },
  {
   "cell_type": "markdown",
   "metadata": {},
   "source": [
    "### Get the average vector of the alive samples (with images) for the target species."
   ]
  },
  {
   "cell_type": "code",
   "execution_count": 27,
   "metadata": {
    "tags": []
   },
   "outputs": [
    {
     "data": {
      "text/plain": [
       "(893258, 421)"
      ]
     },
     "execution_count": 27,
     "metadata": {},
     "output_type": "execute_result"
    }
   ],
   "source": [
    "# get the target species data in logicle space\n",
    "df_positive_logicle = pd.read_hdf(logicle_samples[target_species], key=\"df\")\n",
    "df_positive_logicle.shape"
   ]
  },
  {
   "cell_type": "code",
   "execution_count": 28,
   "metadata": {
    "tags": []
   },
   "outputs": [
    {
     "data": {
      "text/plain": [
       "(421, 4)"
      ]
     },
     "execution_count": 28,
     "metadata": {},
     "output_type": "execute_result"
    }
   ],
   "source": [
    "# get channel's logicle params\n",
    "df_logicle_params = pd.read_hdf(logicle_samples[target_species], key=\"logicles\")\n",
    "df_logicle_params.shape"
   ]
  },
  {
   "cell_type": "code",
   "execution_count": 29,
   "metadata": {
    "tags": []
   },
   "outputs": [
    {
     "data": {
      "text/plain": [
       "(421,)"
      ]
     },
     "execution_count": 29,
     "metadata": {},
     "output_type": "execute_result"
    }
   ],
   "source": [
    "# alive (with tiffs) samples average vector\n",
    "target_alive_vector = df_alive.mean().to_numpy()\n",
    "# np.save(f\"./results/{target_species}_alive_vector.npy\", target_alive_vector)\n",
    "target_alive_vector.shape"
   ]
  },
  {
   "cell_type": "markdown",
   "metadata": {},
   "source": [
    "### Calculate the similarity between all samples with the alive average vector."
   ]
  },
  {
   "cell_type": "code",
   "execution_count": 30,
   "metadata": {
    "tags": []
   },
   "outputs": [],
   "source": [
    "# calculate the cosine similarity between alive average vector and each row of data\n",
    "data = df_positive_logicle.to_numpy()\n",
    "sim_mat = np.dot(data, target_alive_vector)\n",
    "sim_mat /= (\n",
    "    np.linalg.norm(data, axis=1) *\n",
    "    np.linalg.norm(target_alive_vector)\n",
    ")\n",
    "# print(sim_mat.min(), sim_mat.max(), sim_mat.mean())\n",
    "\n",
    "# add weights to make a better distribution of the similarities\n",
    "weights = (sim_mat - np.mean(sim_mat))\n",
    "sim_mat = weights * sim_mat\n",
    "\n",
    "# scale similarity to the range of [0, 1]\n",
    "sim_mat = (sim_mat - sim_mat.min()) / (sim_mat.max() - sim_mat.min())\n",
    "# print(sim_mat.min(), sim_mat.max(), sim_mat.mean())"
   ]
  },
  {
   "cell_type": "markdown",
   "metadata": {},
   "source": [
    "### Set the threshold of the similarity:\n",
    "##### Higher threshold will produce tighter gate with more pure samples but less in numbers."
   ]
  },
  {
   "cell_type": "code",
   "execution_count": 41,
   "metadata": {
    "tags": []
   },
   "outputs": [
    {
     "data": {
      "application/vnd.jupyter.widget-view+json": {
       "model_id": "f305181d832c486c8203b3ffc03ed6e9",
       "version_major": 2,
       "version_minor": 0
      },
      "text/plain": [
       "FloatSlider(value=0.85, continuous_update=False, description='Similarity Threshold:', max=1.0, step=0.01)"
      ]
     },
     "metadata": {},
     "output_type": "display_data"
    }
   ],
   "source": [
    "# threshold the similarity\n",
    "threshold_slider = widgets.FloatSlider(\n",
    "    value=0.85,\n",
    "    min=0,\n",
    "    max=1.0,\n",
    "    step=0.01,\n",
    "    description=\"Similarity Threshold:\",\n",
    "    disabled=False,\n",
    "    continuous_update=False,\n",
    "    orientation=\"horizontal\",\n",
    "    readout=True,\n",
    "    readout_format='.2f',\n",
    ")\n",
    "display(threshold_slider)"
   ]
  },
  {
   "cell_type": "code",
   "execution_count": 44,
   "metadata": {
    "tags": []
   },
   "outputs": [
    {
     "name": "stdout",
     "output_type": "stream",
     "text": [
      "0.9\n",
      "Alive-Similar data rows: 3,371\n"
     ]
    }
   ],
   "source": [
    "similarity_threshold = threshold_slider.value\n",
    "print(similarity_threshold)\n",
    "\n",
    "high_sim_mask = sim_mat > similarity_threshold\n",
    "np.save(f\"./results/{target_species}_high_sim_mask.npy\", high_sim_mask)\n",
    "print(f\"Alive-Similar data rows: {high_sim_mask.sum():,d}\")"
   ]
  },
  {
   "cell_type": "markdown",
   "metadata": {},
   "source": [
    "#### Visualize the threshold effect on a sample pair"
   ]
  },
  {
   "cell_type": "code",
   "execution_count": 46,
   "metadata": {
    "tags": []
   },
   "outputs": [
    {
     "data": {
      "image/png": "[encoded data removed]",
      "text/plain": [
       "<Figure size 700x650 with 1 Axes>"
      ]
     },
     "metadata": {},
     "output_type": "display_data"
    }
   ],
   "source": [
    "fig, ax = plt.subplots(1, 1, figsize=(7, 6.5))\n",
    "\n",
    "ch1 = df_top_pairs.loc[0, \"channel_1\"]\n",
    "ch2 = df_top_pairs.loc[0, \"channel_2\"]\n",
    "\n",
    "ax.scatter(\n",
    "    df_others[ch2].to_numpy(), df_others[ch1].to_numpy(),\n",
    "    color=\"salmon\", s=7, alpha=0.5\n",
    ")\n",
    "ax.scatter(\n",
    "    df_positive_logicle[ch2].to_numpy()[high_sim_mask], df_positive_logicle[ch1].to_numpy()[high_sim_mask],\n",
    "    color=\"limegreen\", s=9, alpha=0.5\n",
    ")\n",
    "\n",
    "ax.set_xlabel(ch2)\n",
    "ax.set_ylabel(ch1)\n",
    "\n",
    "plt.show()"
   ]
  },
  {
   "cell_type": "markdown",
   "metadata": {},
   "source": [
    "### Create the polygon gates for the selected top pairs:"
   ]
  },
  {
   "cell_type": "code",
   "execution_count": 47,
   "metadata": {
    "tags": []
   },
   "outputs": [
    {
     "data": {
      "application/vnd.jupyter.widget-view+json": {
       "model_id": "af0db041e24a480e8229d00d6c486289",
       "version_major": 2,
       "version_minor": 0
      },
      "text/plain": [
       "Calculate pairs' polygon gates (logicle):   0%|          | 0/18797 [00:00<?, ?it/s]"
      ]
     },
     "metadata": {},
     "output_type": "display_data"
    },
    {
     "data": {
      "text/plain": [
       "18797"
      ]
     },
     "execution_count": 47,
     "metadata": {},
     "output_type": "execute_result"
    }
   ],
   "source": [
    "logicle_polygon_gates = get_logicle_polygon_gates(df_top_pairs, df_positive_logicle, high_sim_mask)\n",
    "\n",
    "len(logicle_polygon_gates)"
   ]
  },
  {
   "cell_type": "code",
   "execution_count": 48,
   "metadata": {
    "tags": []
   },
   "outputs": [],
   "source": [
    "# saving gates\n",
    "pairs = [\n",
    "    f\"{channels[0]}|{channels[1]}\" for channels in\n",
    "    df_top_pairs[[\"channel_1\", \"channel_2\"]].itertuples(index=False, name=None)\n",
    "]\n",
    "\n",
    "# with open(f\"./results/{target_species}_top_gates.bin\", mode=\"wb\") as f:\n",
    "#     pickle.dump({\n",
    "#         pair:gate for pair, gate in zip(pairs, logicle_polygon_gates)\n",
    "#     }, f)"
   ]
  },
  {
   "cell_type": "code",
   "execution_count": 49,
   "metadata": {
    "tags": []
   },
   "outputs": [],
   "source": [
    "# to free up some memory\n",
    "\n",
    "del df_others\n",
    "del df_positive_logicle\n",
    "del weights\n",
    "del sim_mat\n",
    "del data"
   ]
  },
  {
   "cell_type": "markdown",
   "metadata": {},
   "source": [
    "### Calculate the precision for each pair/gate"
   ]
  },
  {
   "cell_type": "code",
   "execution_count": 50,
   "metadata": {
    "tags": []
   },
   "outputs": [
    {
     "name": "stdout",
     "output_type": "stream",
     "text": [
      "(893258, 450) (1217721, 450)\n"
     ]
    }
   ],
   "source": [
    "# load raw data to make positive and negative dataframes\n",
    "df_positive = fk.Sample(sample_paths[target_species]).as_dataframe(source=\"raw\")\n",
    "\n",
    "df_negative = []\n",
    "for sample_name in logicle_samples:\n",
    "    fcs_file = sample_paths[sample_name]\n",
    "    if sample_name != target_species:\n",
    "        df_negative.append(\n",
    "            fk.Sample(fcs_file).as_dataframe(source=\"raw\")\n",
    "        )\n",
    "df_negative = pd.concat(df_negative)\n",
    "\n",
    "# !important: drop second level columns (pns)\n",
    "df_positive = df_positive.droplevel(level=1, axis=1)\n",
    "df_negative = df_negative.droplevel(level=1, axis=1)\n",
    "\n",
    "print(df_positive.shape, df_negative.shape)"
   ]
  },
  {
   "cell_type": "code",
   "execution_count": null,
   "metadata": {
    "tags": []
   },
   "outputs": [
    {
     "data": {
      "application/vnd.jupyter.widget-view+json": {
       "model_id": "33c0bdc0f3e549669231487bbfc3a5e8",
       "version_major": 2,
       "version_minor": 0
      },
      "text/plain": [
       "Calculate gate precisions:   0%|          | 0/18797 [00:00<?, ?it/s]"
      ]
     },
     "metadata": {},
     "output_type": "display_data"
    }
   ],
   "source": [
    "# (Takes time!)\n",
    "df_precisions = get_pair_precisions(\n",
    "    df_top_pairs, logicle_polygon_gates, df_logicle_params,\n",
    "    df_positive, df_negative\n",
    ")"
   ]
  },
  {
   "cell_type": "code",
   "execution_count": null,
   "metadata": {
    "tags": []
   },
   "outputs": [],
   "source": [
    "# df_precisions = df_precisions.sort_values(\"precision\", ascending=False).reset_index(drop=True)\n",
    "df_precisions"
   ]
  },
  {
   "cell_type": "code",
   "execution_count": null,
   "metadata": {
    "tags": []
   },
   "outputs": [],
   "source": [
    "df_precisions.to_csv(f\"./results/{target_species}_gate_precisions.csv\", index=False)"
   ]
  },
  {
   "cell_type": "code",
   "execution_count": null,
   "metadata": {
    "tags": []
   },
   "outputs": [],
   "source": [
    "fig, ax = plt.subplots(1, 1, figsize=(7.5, 6.5))\n",
    "ax.scatter(\n",
    "    df_precisions[\"precision\"], df_precisions[\"fisher_avg\"],\n",
    "    color=\"dodgerblue\", s=11, lw=0\n",
    ")\n",
    "ax.set_title(target_species)\n",
    "ax.set_xlabel(\"Precision\")\n",
    "ax.set_ylabel(\"Fisher Ratio\")\n",
    "ax.grid(alpha=0.3)\n",
    "\n",
    "plt.show()"
   ]
  },
  {
   "cell_type": "code",
   "execution_count": null,
   "metadata": {},
   "outputs": [],
   "source": []
  }
 ],
 "metadata": {
  "kernelspec": {
   "display_name": "Python 3 (ipykernel)",
   "language": "python",
   "name": "python3"
  },
  "language_info": {
   "codemirror_mode": {
    "name": "ipython",
    "version": 3
   },
   "file_extension": ".py",
   "mimetype": "text/x-python",
   "name": "python",
   "nbconvert_exporter": "python",
   "pygments_lexer": "ipython3",
   "version": "3.9.18"
  }
 },
 "nbformat": 4,
 "nbformat_minor": 4
}
