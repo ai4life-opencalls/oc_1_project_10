{
 "cells": [
  {
   "cell_type": "code",
   "execution_count": 6,
   "metadata": {},
   "outputs": [],
   "source": [
    "import itertools\n",
    "import json\n",
    "import pickle\n",
    "from pathlib import Path\n",
    "from pprint import pprint\n",
    "\n",
    "import numpy as np\n",
    "import pandas as pd\n",
    "import flowkit as fk\n",
    "import matplotlib.pyplot as plt\n",
    "\n",
    "from sklearn.preprocessing import StandardScaler\n",
    "\n",
    "import ipywidgets as widgets\n",
    "from tqdm.notebook import tqdm\n",
    "\n",
    "from utils import ask_directory\n",
    "from pair_precision import (\n",
    "    get_logicle_polygon_gates,\n",
    "    get_pair_precisions\n",
    ")\n",
    "\n",
    "\n",
    "SEED = 7\n",
    "np.random.seed(SEED)"
   ]
  },
  {
   "cell_type": "code",
   "execution_count": 7,
   "metadata": {},
   "outputs": [],
   "source": [
    "# creat \"results\" folder to keep gate pairs scores and ...\n",
    "Path(\"./results\").mkdir(exist_ok=True)"
   ]
  },
  {
   "cell_type": "code",
   "execution_count": 8,
   "metadata": {},
   "outputs": [],
   "source": [
    "# functions to separate alive vs. others\n",
    "\n",
    "TIFF_NAME_FORMAT = \"{name}_{id:08d}.tiff\"\n",
    "\n",
    "def get_id_from_tiff_path(tiff_path: Path):\n",
    "    return int(tiff_path.stem.split(\"_\")[-1])\n",
    "\n",
    "\n",
    "def get_tiff_filtered_dataframes(dataframes: dict, sample_paths: dict):\n",
    "    results = {}\n",
    "    for sample_name, hdf_path in tqdm(dataframes.items(), desc=\"separating samples with tiff\"):\n",
    "        df = pd.read_hdf(hdf_path, key=\"df\")\n",
    "        image_path = sample_paths[sample_name].parent.joinpath(\"images\")\n",
    "        all_tiffs = list(image_path.glob(\"**/*.tiff\"))\n",
    "        rows_with_tiff = [get_id_from_tiff_path(img_path) for img_path in all_tiffs]\n",
    "        df_with_tiff = df.iloc[rows_with_tiff]\n",
    "        df_without_tiff = df.drop(index=rows_with_tiff)\n",
    "        df_logicles = pd.read_hdf(hdf_path, key=\"logicles\")\n",
    "        print(\n",
    "            f\"{sample_name:<20}: Total: {len(df):<7,d} | With tiff: {len(df_with_tiff):<7,d} | \"\n",
    "            f\"Without tiff: {len(df_without_tiff):,d}.\"\n",
    "        )\n",
    "        results[sample_name] = [df_without_tiff, df_with_tiff, df_logicles]\n",
    "\n",
    "    return results"
   ]
  },
  {
   "cell_type": "code",
   "execution_count": 9,
   "metadata": {},
   "outputs": [
    {
     "data": {
      "text/plain": [
       "{'raw_data_dir': '/Users/mehdi.seifi/Projects/AI4Life/project_10_sorting/data',\n",
       " 'logicle_data_dir': '/Users/mehdi.seifi/Projects/AI4Life/project_10_sorting/data/transformed_data'}"
      ]
     },
     "execution_count": 9,
     "metadata": {},
     "output_type": "execute_result"
    }
   ],
   "source": [
    "# load config from the previous step, if it's available\n",
    "config = {}\n",
    "config_file = Path(\"./config.json\")\n",
    "if config_file.exists():\n",
    "    with open(config_file, mode=\"r\") as f:\n",
    "        config = json.load(f)\n",
    "\n",
    "config"
   ]
  },
  {
   "cell_type": "markdown",
   "metadata": {},
   "source": [
    "### Set the raw data directory (*FCS* files):"
   ]
  },
  {
   "cell_type": "code",
   "execution_count": 10,
   "metadata": {},
   "outputs": [
    {
     "name": "stdout",
     "output_type": "stream",
     "text": [
      "/Users/mehdi.seifi/Projects/AI4Life/project_10_sorting/data\n"
     ]
    }
   ],
   "source": [
    "raw_data_dir = config.get(\"raw_data_dir\", None)\n",
    "\n",
    "if raw_data_dir is None:\n",
    "    raw_data_dir = ask_directory(\"Select your data directory\")\n",
    "\n",
    "raw_data_dir = Path(raw_data_dir)\n",
    "print(raw_data_dir)"
   ]
  },
  {
   "cell_type": "code",
   "execution_count": 11,
   "metadata": {},
   "outputs": [
    {
     "name": "stdout",
     "output_type": "stream",
     "text": [
      "Sample files with images:\n",
      "{'C.6818': PosixPath('/Users/mehdi.seifi/Projects/AI4Life/project_10_sorting/data/C.6818/C.6818.fcs'),\n",
      " 'Emiliana_huxley': PosixPath('/Users/mehdi.seifi/Projects/AI4Life/project_10_sorting/data/Emiliana_huxley/Emiliana_huxley.fcs'),\n",
      " 'Lingodinium': PosixPath('/Users/mehdi.seifi/Projects/AI4Life/project_10_sorting/data/Lingodinium/Lingodinium.fcs'),\n",
      " 'Phaeodactylum': PosixPath('/Users/mehdi.seifi/Projects/AI4Life/project_10_sorting/data/Phaeodactylum/Phaeodactylum.fcs'),\n",
      " 'Skeletonema': PosixPath('/Users/mehdi.seifi/Projects/AI4Life/project_10_sorting/data/Skeletonema/Skeletonema.fcs'),\n",
      " 'Synechococcus': PosixPath('/Users/mehdi.seifi/Projects/AI4Life/project_10_sorting/data/Synechococcus/Synechococcus.fcs')}\n"
     ]
    }
   ],
   "source": [
    "fcs_files = raw_data_dir.glob(\"**/*.fcs\")\n",
    "sample_paths = {}\n",
    "for fcs in fcs_files:\n",
    "    has_images = len(list(fcs.parent.glob(\"*images\"))) > 0\n",
    "    if has_images:\n",
    "        sample_paths[fcs.stem] = fcs\n",
    "\n",
    "print(\"Sample files with images:\")\n",
    "pprint(sample_paths)"
   ]
  },
  {
   "cell_type": "markdown",
   "metadata": {},
   "source": [
    "### Select the Logicle transformed directory:"
   ]
  },
  {
   "cell_type": "code",
   "execution_count": 12,
   "metadata": {},
   "outputs": [
    {
     "name": "stdout",
     "output_type": "stream",
     "text": [
      "/Users/mehdi.seifi/Projects/AI4Life/project_10_sorting/data/transformed_data\n"
     ]
    }
   ],
   "source": [
    "transformed_data_dir = config.get(\"logicle_data_dir\", None)\n",
    "if transformed_data_dir is None:\n",
    "    transformed_data_dir = ask_directory(\"Select directory of the transformed data\")\n",
    "\n",
    "transformed_data_dir = Path(transformed_data_dir)\n",
    "print(transformed_data_dir)"
   ]
  },
  {
   "cell_type": "code",
   "execution_count": 13,
   "metadata": {},
   "outputs": [
    {
     "name": "stdout",
     "output_type": "stream",
     "text": [
      "Logicle transformed data files:\n",
      "{'C.6818': PosixPath('/Users/mehdi.seifi/Projects/AI4Life/project_10_sorting/data/transformed_data/C.6818.h5'),\n",
      " 'Emiliana_huxley': PosixPath('/Users/mehdi.seifi/Projects/AI4Life/project_10_sorting/data/transformed_data/Emiliana_huxley.h5'),\n",
      " 'Lingodinium': PosixPath('/Users/mehdi.seifi/Projects/AI4Life/project_10_sorting/data/transformed_data/Lingodinium.h5'),\n",
      " 'Phaeodactylum': PosixPath('/Users/mehdi.seifi/Projects/AI4Life/project_10_sorting/data/transformed_data/Phaeodactylum.h5'),\n",
      " 'Skeletonema': PosixPath('/Users/mehdi.seifi/Projects/AI4Life/project_10_sorting/data/transformed_data/Skeletonema.h5'),\n",
      " 'Synechococcus': PosixPath('/Users/mehdi.seifi/Projects/AI4Life/project_10_sorting/data/transformed_data/Synechococcus.h5')}\n"
     ]
    }
   ],
   "source": [
    "logicle_samples = {}\n",
    "h5_files = transformed_data_dir.glob(\"*.h5\")\n",
    "for file in h5_files:\n",
    "    logicle_samples[file.stem] = file\n",
    "\n",
    "print(\"Logicle transformed data files:\")\n",
    "pprint(logicle_samples)"
   ]
  },
  {
   "cell_type": "markdown",
   "metadata": {},
   "source": [
    "### Separating alive samples vs. others for each species:"
   ]
  },
  {
   "cell_type": "code",
   "execution_count": 14,
   "metadata": {},
   "outputs": [
    {
     "data": {
      "application/vnd.jupyter.widget-view+json": {
       "model_id": "aac74302b090434bb6e09f5b7d1a79e6",
       "version_major": 2,
       "version_minor": 0
      },
      "text/plain": [
       "separating samples with tiff:   0%|          | 0/6 [00:00<?, ?it/s]"
      ]
     },
     "metadata": {},
     "output_type": "display_data"
    },
    {
     "name": "stdout",
     "output_type": "stream",
     "text": [
      "Synechococcus       : Total: 11,927  | With tiff: 10,000  | Without tiff: 1,927.\n",
      "Lingodinium         : Total: 893,258 | With tiff: 1,276   | Without tiff: 891,982.\n",
      "C.6818              : Total: 299,976 | With tiff: 2,967   | Without tiff: 297,009.\n",
      "Phaeodactylum       : Total: 238,981 | With tiff: 10,000  | Without tiff: 228,981.\n",
      "Skeletonema         : Total: 540,631 | With tiff: 10,000  | Without tiff: 530,631.\n",
      "Emiliana_huxley     : Total: 126,206 | With tiff: 10,000  | Without tiff: 116,206.\n"
     ]
    }
   ],
   "source": [
    "species_dfs = get_tiff_filtered_dataframes(logicle_samples, sample_paths)"
   ]
  },
  {
   "cell_type": "markdown",
   "metadata": {},
   "source": [
    "### Select the target species:"
   ]
  },
  {
   "cell_type": "code",
   "execution_count": 15,
   "metadata": {},
   "outputs": [
    {
     "data": {
      "application/vnd.jupyter.widget-view+json": {
       "model_id": "715f5cc21c074ac0b7f37f8cbad952aa",
       "version_major": 2,
       "version_minor": 0
      },
      "text/plain": [
       "Select(description='Target species:', options=('Synechococcus', 'Lingodinium', 'C.6818', 'Phaeodactylum', 'Ske…"
      ]
     },
     "metadata": {},
     "output_type": "display_data"
    }
   ],
   "source": [
    "selector = widgets.Select(\n",
    "    options=[sp_name for sp_name in species_dfs],\n",
    "    rows=14,\n",
    "    description=\"Target species:\"\n",
    ")\n",
    "\n",
    "display(selector)"
   ]
  },
  {
   "cell_type": "code",
   "execution_count": 16,
   "metadata": {},
   "outputs": [
    {
     "name": "stdout",
     "output_type": "stream",
     "text": [
      "Your target species: Skeletonema\n"
     ]
    }
   ],
   "source": [
    "target_species = selector.value\n",
    "print(f\"Your target species: {target_species}\")"
   ]
  },
  {
   "cell_type": "code",
   "execution_count": 17,
   "metadata": {},
   "outputs": [
    {
     "name": "stdout",
     "output_type": "stream",
     "text": [
      "alive: (10000, 421), others: (1570348, 421)\n"
     ]
    }
   ],
   "source": [
    "# get the target alive samples\n",
    "df_alive = species_dfs[target_species][1]\n",
    "\n",
    "# get others species samples\n",
    "df_others = []\n",
    "for name in species_dfs:\n",
    "    if name != target_species:\n",
    "        df_others.append(species_dfs[name][0])\n",
    "        df_others.append(species_dfs[name][1])\n",
    "\n",
    "df_others = pd.concat(df_others)\n",
    "\n",
    "\n",
    "print(f\"alive: {df_alive.shape}, others: {df_others.shape}\")"
   ]
  },
  {
   "cell_type": "code",
   "execution_count": 35,
   "metadata": {},
   "outputs": [],
   "source": [
    "# to free some memory up\n",
    "del species_dfs"
   ]
  },
  {
   "cell_type": "markdown",
   "metadata": {},
   "source": [
    "### Normalize the data"
   ]
  },
  {
   "cell_type": "code",
   "execution_count": 18,
   "metadata": {},
   "outputs": [
    {
     "data": {
      "text/html": [
       "<style>#sk-container-id-1 {color: black;}#sk-container-id-1 pre{padding: 0;}#sk-container-id-1 div.sk-toggleable {background-color: white;}#sk-container-id-1 label.sk-toggleable__label {cursor: pointer;display: block;width: 100%;margin-bottom: 0;padding: 0.3em;box-sizing: border-box;text-align: center;}#sk-container-id-1 label.sk-toggleable__label-arrow:before {content: \"▸\";float: left;margin-right: 0.25em;color: #696969;}#sk-container-id-1 label.sk-toggleable__label-arrow:hover:before {color: black;}#sk-container-id-1 div.sk-estimator:hover label.sk-toggleable__label-arrow:before {color: black;}#sk-container-id-1 div.sk-toggleable__content {max-height: 0;max-width: 0;overflow: hidden;text-align: left;background-color: #f0f8ff;}#sk-container-id-1 div.sk-toggleable__content pre {margin: 0.2em;color: black;border-radius: 0.25em;background-color: #f0f8ff;}#sk-container-id-1 input.sk-toggleable__control:checked~div.sk-toggleable__content {max-height: 200px;max-width: 100%;overflow: auto;}#sk-container-id-1 input.sk-toggleable__control:checked~label.sk-toggleable__label-arrow:before {content: \"▾\";}#sk-container-id-1 div.sk-estimator input.sk-toggleable__control:checked~label.sk-toggleable__label {background-color: #d4ebff;}#sk-container-id-1 div.sk-label input.sk-toggleable__control:checked~label.sk-toggleable__label {background-color: #d4ebff;}#sk-container-id-1 input.sk-hidden--visually {border: 0;clip: rect(1px 1px 1px 1px);clip: rect(1px, 1px, 1px, 1px);height: 1px;margin: -1px;overflow: hidden;padding: 0;position: absolute;width: 1px;}#sk-container-id-1 div.sk-estimator {font-family: monospace;background-color: #f0f8ff;border: 1px dotted black;border-radius: 0.25em;box-sizing: border-box;margin-bottom: 0.5em;}#sk-container-id-1 div.sk-estimator:hover {background-color: #d4ebff;}#sk-container-id-1 div.sk-parallel-item::after {content: \"\";width: 100%;border-bottom: 1px solid gray;flex-grow: 1;}#sk-container-id-1 div.sk-label:hover label.sk-toggleable__label {background-color: #d4ebff;}#sk-container-id-1 div.sk-serial::before {content: \"\";position: absolute;border-left: 1px solid gray;box-sizing: border-box;top: 0;bottom: 0;left: 50%;z-index: 0;}#sk-container-id-1 div.sk-serial {display: flex;flex-direction: column;align-items: center;background-color: white;padding-right: 0.2em;padding-left: 0.2em;position: relative;}#sk-container-id-1 div.sk-item {position: relative;z-index: 1;}#sk-container-id-1 div.sk-parallel {display: flex;align-items: stretch;justify-content: center;background-color: white;position: relative;}#sk-container-id-1 div.sk-item::before, #sk-container-id-1 div.sk-parallel-item::before {content: \"\";position: absolute;border-left: 1px solid gray;box-sizing: border-box;top: 0;bottom: 0;left: 50%;z-index: -1;}#sk-container-id-1 div.sk-parallel-item {display: flex;flex-direction: column;z-index: 1;position: relative;background-color: white;}#sk-container-id-1 div.sk-parallel-item:first-child::after {align-self: flex-end;width: 50%;}#sk-container-id-1 div.sk-parallel-item:last-child::after {align-self: flex-start;width: 50%;}#sk-container-id-1 div.sk-parallel-item:only-child::after {width: 0;}#sk-container-id-1 div.sk-dashed-wrapped {border: 1px dashed gray;margin: 0 0.4em 0.5em 0.4em;box-sizing: border-box;padding-bottom: 0.4em;background-color: white;}#sk-container-id-1 div.sk-label label {font-family: monospace;font-weight: bold;display: inline-block;line-height: 1.2em;}#sk-container-id-1 div.sk-label-container {text-align: center;}#sk-container-id-1 div.sk-container {/* jupyter's `normalize.less` sets `[hidden] { display: none; }` but bootstrap.min.css set `[hidden] { display: none !important; }` so we also need the `!important` here to be able to override the default hidden behavior on the sphinx rendered scikit-learn.org. See: https://github.com/scikit-learn/scikit-learn/issues/21755 */display: inline-block !important;position: relative;}#sk-container-id-1 div.sk-text-repr-fallback {display: none;}</style><div id=\"sk-container-id-1\" class=\"sk-top-container\"><div class=\"sk-text-repr-fallback\"><pre>StandardScaler()</pre><b>In a Jupyter environment, please rerun this cell to show the HTML representation or trust the notebook. <br />On GitHub, the HTML representation is unable to render, please try loading this page with nbviewer.org.</b></div><div class=\"sk-container\" hidden><div class=\"sk-item\"><div class=\"sk-estimator sk-toggleable\"><input class=\"sk-toggleable__control sk-hidden--visually\" id=\"sk-estimator-id-1\" type=\"checkbox\" checked><label for=\"sk-estimator-id-1\" class=\"sk-toggleable__label sk-toggleable__label-arrow\">StandardScaler</label><div class=\"sk-toggleable__content\"><pre>StandardScaler()</pre></div></div></div></div></div>"
      ],
      "text/plain": [
       "StandardScaler()"
      ]
     },
     "execution_count": 18,
     "metadata": {},
     "output_type": "execute_result"
    }
   ],
   "source": [
    "scaler = StandardScaler()\n",
    "\n",
    "scaler.fit(np.vstack((\n",
    "    df_alive.to_numpy(),\n",
    "    df_others.to_numpy()\n",
    ")))"
   ]
  },
  {
   "cell_type": "code",
   "execution_count": 19,
   "metadata": {},
   "outputs": [],
   "source": [
    "alive_normed = scaler.transform(df_alive.to_numpy())\n",
    "others_normed = scaler.transform(df_others.to_numpy())"
   ]
  },
  {
   "cell_type": "markdown",
   "metadata": {},
   "source": [
    "### Get the Fisher Discriminant Ratio (FDR) for each channel:\n",
    "(For two classes alive vs. others)"
   ]
  },
  {
   "cell_type": "code",
   "execution_count": 20,
   "metadata": {},
   "outputs": [],
   "source": [
    "alive_mu = alive_normed.mean(axis=0)\n",
    "others_mu = others_normed.mean(axis=0)\n",
    "\n",
    "alive_vars = alive_normed.var()\n",
    "others_vars = others_normed.var()"
   ]
  },
  {
   "cell_type": "code",
   "execution_count": 21,
   "metadata": {},
   "outputs": [
    {
     "data": {
      "text/plain": [
       "(421,)"
      ]
     },
     "execution_count": 21,
     "metadata": {},
     "output_type": "execute_result"
    }
   ],
   "source": [
    "fishers = np.power(alive_mu - others_mu, 2) / (alive_vars + others_vars)\n",
    "fishers.shape"
   ]
  },
  {
   "cell_type": "code",
   "execution_count": 22,
   "metadata": {},
   "outputs": [
    {
     "data": {
      "text/html": [
       "<div>\n",
       "<style scoped>\n",
       "    .dataframe tbody tr th:only-of-type {\n",
       "        vertical-align: middle;\n",
       "    }\n",
       "\n",
       "    .dataframe tbody tr th {\n",
       "        vertical-align: top;\n",
       "    }\n",
       "\n",
       "    .dataframe thead th {\n",
       "        text-align: right;\n",
       "    }\n",
       "</style>\n",
       "<table border=\"1\" class=\"dataframe\">\n",
       "  <thead>\n",
       "    <tr style=\"text-align: right;\">\n",
       "      <th></th>\n",
       "      <th>channel</th>\n",
       "      <th>fisher</th>\n",
       "    </tr>\n",
       "  </thead>\n",
       "  <tbody>\n",
       "    <tr>\n",
       "      <th>0</th>\n",
       "      <td>V5 (500)-H</td>\n",
       "      <td>10.122590</td>\n",
       "    </tr>\n",
       "    <tr>\n",
       "      <th>1</th>\n",
       "      <td>UV7 (500)-H</td>\n",
       "      <td>10.116831</td>\n",
       "    </tr>\n",
       "    <tr>\n",
       "      <th>2</th>\n",
       "      <td>UV9 (530)-H</td>\n",
       "      <td>9.835146</td>\n",
       "    </tr>\n",
       "    <tr>\n",
       "      <th>3</th>\n",
       "      <td>V7 (530)-H</td>\n",
       "      <td>9.803729</td>\n",
       "    </tr>\n",
       "    <tr>\n",
       "      <th>4</th>\n",
       "      <td>UV6 (475)-H</td>\n",
       "      <td>9.668850</td>\n",
       "    </tr>\n",
       "    <tr>\n",
       "      <th>...</th>\n",
       "      <td>...</td>\n",
       "      <td>...</td>\n",
       "    </tr>\n",
       "    <tr>\n",
       "      <th>416</th>\n",
       "      <td>Eccentricity (LightLoss (Imaging))</td>\n",
       "      <td>0.007689</td>\n",
       "    </tr>\n",
       "    <tr>\n",
       "      <th>417</th>\n",
       "      <td>Eccentricity (Red*)</td>\n",
       "      <td>0.007022</td>\n",
       "    </tr>\n",
       "    <tr>\n",
       "      <th>418</th>\n",
       "      <td>Eccentricity (Orange*)</td>\n",
       "      <td>0.004313</td>\n",
       "    </tr>\n",
       "    <tr>\n",
       "      <th>419</th>\n",
       "      <td>Delta CoM (SSC (Imaging)/FSC)</td>\n",
       "      <td>0.004188</td>\n",
       "    </tr>\n",
       "    <tr>\n",
       "      <th>420</th>\n",
       "      <td>Eccentricity (SSC (Imaging))</td>\n",
       "      <td>0.000699</td>\n",
       "    </tr>\n",
       "  </tbody>\n",
       "</table>\n",
       "<p>421 rows × 2 columns</p>\n",
       "</div>"
      ],
      "text/plain": [
       "                                channel     fisher\n",
       "0                            V5 (500)-H  10.122590\n",
       "1                           UV7 (500)-H  10.116831\n",
       "2                           UV9 (530)-H   9.835146\n",
       "3                            V7 (530)-H   9.803729\n",
       "4                           UV6 (475)-H   9.668850\n",
       "..                                  ...        ...\n",
       "416  Eccentricity (LightLoss (Imaging))   0.007689\n",
       "417                 Eccentricity (Red*)   0.007022\n",
       "418              Eccentricity (Orange*)   0.004313\n",
       "419       Delta CoM (SSC (Imaging)/FSC)   0.004188\n",
       "420        Eccentricity (SSC (Imaging))   0.000699\n",
       "\n",
       "[421 rows x 2 columns]"
      ]
     },
     "execution_count": 22,
     "metadata": {},
     "output_type": "execute_result"
    }
   ],
   "source": [
    "df_fisher = pd.DataFrame(data={\n",
    "    \"channel\": df_alive.columns, \"fisher\": fishers\n",
    "}).sort_values(\"fisher\", ascending=False).reset_index(drop=True)\n",
    "\n",
    "df_fisher"
   ]
  },
  {
   "cell_type": "markdown",
   "metadata": {},
   "source": [
    "### Get fisher score for each possible pair (average of two channels in a pair)"
   ]
  },
  {
   "cell_type": "code",
   "execution_count": 23,
   "metadata": {},
   "outputs": [
    {
     "name": "stdout",
     "output_type": "stream",
     "text": [
      "array([['FSC-A', 'FSC-H'],\n",
      "       ['FSC-A', 'FSC-W'],\n",
      "       ['FSC-A', 'SSC (Violet)-A'],\n",
      "       ...,\n",
      "       ['R6 (780)-T', 'R7 (810)-T'],\n",
      "       ['R6 (780)-T', 'R8 (845)-T'],\n",
      "       ['R7 (810)-T', 'R8 (845)-T']], dtype='<U45')\n"
     ]
    }
   ],
   "source": [
    "all_pairs_cols = np.array(\n",
    "    list(itertools.combinations(df_alive.columns.to_list(), 2))\n",
    ")\n",
    "\n",
    "pprint(all_pairs_cols)"
   ]
  },
  {
   "cell_type": "code",
   "execution_count": 24,
   "metadata": {},
   "outputs": [
    {
     "data": {
      "application/vnd.jupyter.widget-view+json": {
       "model_id": "c40aeb14a46d4bdc9e886479fd8a2927",
       "version_major": 2,
       "version_minor": 0
      },
      "text/plain": [
       "Getting pairs' fishers:   0%|          | 0/88410 [00:00<?, ?it/s]"
      ]
     },
     "metadata": {},
     "output_type": "display_data"
    }
   ],
   "source": [
    "pair_fishers = np.zeros(len(all_pairs_cols))\n",
    "\n",
    "for i, pair in tqdm(\n",
    "    enumerate(all_pairs_cols), total=len(all_pairs_cols), desc=\"Getting pairs' fishers\"\n",
    "):\n",
    "    # print(pair)\n",
    "    fisher_col1 = df_fisher[df_fisher[\"channel\"] == pair[0]][\"fisher\"].to_numpy()[0]\n",
    "    fisher_col2 = df_fisher[df_fisher[\"channel\"] == pair[1]][\"fisher\"].to_numpy()[0]\n",
    "    pair_fishers[i] = (fisher_col1 + fisher_col2) / 2"
   ]
  },
  {
   "cell_type": "code",
   "execution_count": 25,
   "metadata": {},
   "outputs": [
    {
     "data": {
      "text/html": [
       "<div>\n",
       "<style scoped>\n",
       "    .dataframe tbody tr th:only-of-type {\n",
       "        vertical-align: middle;\n",
       "    }\n",
       "\n",
       "    .dataframe tbody tr th {\n",
       "        vertical-align: top;\n",
       "    }\n",
       "\n",
       "    .dataframe thead th {\n",
       "        text-align: right;\n",
       "    }\n",
       "</style>\n",
       "<table border=\"1\" class=\"dataframe\">\n",
       "  <thead>\n",
       "    <tr style=\"text-align: right;\">\n",
       "      <th></th>\n",
       "      <th>channel_1</th>\n",
       "      <th>channel_2</th>\n",
       "      <th>fisher_avg</th>\n",
       "    </tr>\n",
       "  </thead>\n",
       "  <tbody>\n",
       "    <tr>\n",
       "      <th>0</th>\n",
       "      <td>UV7 (500)-H</td>\n",
       "      <td>V5 (500)-H</td>\n",
       "      <td>10.1197</td>\n",
       "    </tr>\n",
       "    <tr>\n",
       "      <th>1</th>\n",
       "      <td>UV9 (530)-H</td>\n",
       "      <td>V5 (500)-H</td>\n",
       "      <td>9.9789</td>\n",
       "    </tr>\n",
       "    <tr>\n",
       "      <th>2</th>\n",
       "      <td>UV7 (500)-H</td>\n",
       "      <td>UV9 (530)-H</td>\n",
       "      <td>9.9760</td>\n",
       "    </tr>\n",
       "    <tr>\n",
       "      <th>3</th>\n",
       "      <td>V5 (500)-H</td>\n",
       "      <td>V7 (530)-H</td>\n",
       "      <td>9.9632</td>\n",
       "    </tr>\n",
       "    <tr>\n",
       "      <th>4</th>\n",
       "      <td>UV7 (500)-H</td>\n",
       "      <td>V7 (530)-H</td>\n",
       "      <td>9.9603</td>\n",
       "    </tr>\n",
       "    <tr>\n",
       "      <th>...</th>\n",
       "      <td>...</td>\n",
       "      <td>...</td>\n",
       "      <td>...</td>\n",
       "    </tr>\n",
       "    <tr>\n",
       "      <th>88405</th>\n",
       "      <td>Eccentricity (Orange*)</td>\n",
       "      <td>Delta CoM (SSC (Imaging)/FSC)</td>\n",
       "      <td>0.0043</td>\n",
       "    </tr>\n",
       "    <tr>\n",
       "      <th>88406</th>\n",
       "      <td>Eccentricity (SSC (Imaging))</td>\n",
       "      <td>Eccentricity (LightLoss (Imaging))</td>\n",
       "      <td>0.0042</td>\n",
       "    </tr>\n",
       "    <tr>\n",
       "      <th>88407</th>\n",
       "      <td>Eccentricity (SSC (Imaging))</td>\n",
       "      <td>Eccentricity (Red*)</td>\n",
       "      <td>0.0039</td>\n",
       "    </tr>\n",
       "    <tr>\n",
       "      <th>88408</th>\n",
       "      <td>Eccentricity (SSC (Imaging))</td>\n",
       "      <td>Eccentricity (Orange*)</td>\n",
       "      <td>0.0025</td>\n",
       "    </tr>\n",
       "    <tr>\n",
       "      <th>88409</th>\n",
       "      <td>Eccentricity (SSC (Imaging))</td>\n",
       "      <td>Delta CoM (SSC (Imaging)/FSC)</td>\n",
       "      <td>0.0024</td>\n",
       "    </tr>\n",
       "  </tbody>\n",
       "</table>\n",
       "<p>88410 rows × 3 columns</p>\n",
       "</div>"
      ],
      "text/plain": [
       "                          channel_1                           channel_2  \\\n",
       "0                       UV7 (500)-H                          V5 (500)-H   \n",
       "1                       UV9 (530)-H                          V5 (500)-H   \n",
       "2                       UV7 (500)-H                         UV9 (530)-H   \n",
       "3                        V5 (500)-H                          V7 (530)-H   \n",
       "4                       UV7 (500)-H                          V7 (530)-H   \n",
       "...                             ...                                 ...   \n",
       "88405        Eccentricity (Orange*)       Delta CoM (SSC (Imaging)/FSC)   \n",
       "88406  Eccentricity (SSC (Imaging))  Eccentricity (LightLoss (Imaging))   \n",
       "88407  Eccentricity (SSC (Imaging))                 Eccentricity (Red*)   \n",
       "88408  Eccentricity (SSC (Imaging))              Eccentricity (Orange*)   \n",
       "88409  Eccentricity (SSC (Imaging))       Delta CoM (SSC (Imaging)/FSC)   \n",
       "\n",
       "       fisher_avg  \n",
       "0         10.1197  \n",
       "1          9.9789  \n",
       "2          9.9760  \n",
       "3          9.9632  \n",
       "4          9.9603  \n",
       "...           ...  \n",
       "88405      0.0043  \n",
       "88406      0.0042  \n",
       "88407      0.0039  \n",
       "88408      0.0025  \n",
       "88409      0.0024  \n",
       "\n",
       "[88410 rows x 3 columns]"
      ]
     },
     "execution_count": 25,
     "metadata": {},
     "output_type": "execute_result"
    }
   ],
   "source": [
    "df_pair_fishers = pd.DataFrame(data={\n",
    "    \"channel_1\": all_pairs_cols[:, 0],\n",
    "    \"channel_2\": all_pairs_cols[:, 1],\n",
    "    \"fisher_avg\": pair_fishers\n",
    "})\n",
    "\n",
    "df_pair_fishers = df_pair_fishers.round(4).sort_values(\n",
    "    \"fisher_avg\", ascending=False).reset_index(drop=True)\n",
    "df_pair_fishers"
   ]
  },
  {
   "cell_type": "markdown",
   "metadata": {},
   "source": [
    "### Top Pairs: \n",
    "\n",
    "#### 1. Select pairs with fisher score above the average"
   ]
  },
  {
   "cell_type": "code",
   "execution_count": 26,
   "metadata": {},
   "outputs": [
    {
     "name": "stdout",
     "output_type": "stream",
     "text": [
      "2.4129\n"
     ]
    }
   ],
   "source": [
    "fisher_mean = df_pair_fishers[\"fisher_avg\"].mean().round(4)\n",
    "print(fisher_mean)"
   ]
  },
  {
   "cell_type": "code",
   "execution_count": 27,
   "metadata": {},
   "outputs": [
    {
     "data": {
      "text/html": [
       "<div>\n",
       "<style scoped>\n",
       "    .dataframe tbody tr th:only-of-type {\n",
       "        vertical-align: middle;\n",
       "    }\n",
       "\n",
       "    .dataframe tbody tr th {\n",
       "        vertical-align: top;\n",
       "    }\n",
       "\n",
       "    .dataframe thead th {\n",
       "        text-align: right;\n",
       "    }\n",
       "</style>\n",
       "<table border=\"1\" class=\"dataframe\">\n",
       "  <thead>\n",
       "    <tr style=\"text-align: right;\">\n",
       "      <th></th>\n",
       "      <th>channel_1</th>\n",
       "      <th>channel_2</th>\n",
       "      <th>fisher_avg</th>\n",
       "    </tr>\n",
       "  </thead>\n",
       "  <tbody>\n",
       "    <tr>\n",
       "      <th>0</th>\n",
       "      <td>UV7 (500)-H</td>\n",
       "      <td>V5 (500)-H</td>\n",
       "      <td>10.1197</td>\n",
       "    </tr>\n",
       "    <tr>\n",
       "      <th>1</th>\n",
       "      <td>UV9 (530)-H</td>\n",
       "      <td>V5 (500)-H</td>\n",
       "      <td>9.9789</td>\n",
       "    </tr>\n",
       "    <tr>\n",
       "      <th>2</th>\n",
       "      <td>UV7 (500)-H</td>\n",
       "      <td>UV9 (530)-H</td>\n",
       "      <td>9.9760</td>\n",
       "    </tr>\n",
       "    <tr>\n",
       "      <th>3</th>\n",
       "      <td>V5 (500)-H</td>\n",
       "      <td>V7 (530)-H</td>\n",
       "      <td>9.9632</td>\n",
       "    </tr>\n",
       "    <tr>\n",
       "      <th>4</th>\n",
       "      <td>UV7 (500)-H</td>\n",
       "      <td>V7 (530)-H</td>\n",
       "      <td>9.9603</td>\n",
       "    </tr>\n",
       "    <tr>\n",
       "      <th>...</th>\n",
       "      <td>...</td>\n",
       "      <td>...</td>\n",
       "      <td>...</td>\n",
       "    </tr>\n",
       "    <tr>\n",
       "      <th>39083</th>\n",
       "      <td>Long Axis Moment (Orange*)</td>\n",
       "      <td>R4 (725)-A</td>\n",
       "      <td>2.4136</td>\n",
       "    </tr>\n",
       "    <tr>\n",
       "      <th>39084</th>\n",
       "      <td>Diffusivity (SSC (Imaging))</td>\n",
       "      <td>YG9 (750)-A</td>\n",
       "      <td>2.4135</td>\n",
       "    </tr>\n",
       "    <tr>\n",
       "      <th>39085</th>\n",
       "      <td>B1 (500)-H</td>\n",
       "      <td>R4 (725)-T</td>\n",
       "      <td>2.4134</td>\n",
       "    </tr>\n",
       "    <tr>\n",
       "      <th>39086</th>\n",
       "      <td>Size (Green*)</td>\n",
       "      <td>V11 (605)-A</td>\n",
       "      <td>2.4133</td>\n",
       "    </tr>\n",
       "    <tr>\n",
       "      <th>39087</th>\n",
       "      <td>Total Intensity (FSC)</td>\n",
       "      <td>YG8 (725)-A</td>\n",
       "      <td>2.4131</td>\n",
       "    </tr>\n",
       "  </tbody>\n",
       "</table>\n",
       "<p>39088 rows × 3 columns</p>\n",
       "</div>"
      ],
      "text/plain": [
       "                         channel_1    channel_2  fisher_avg\n",
       "0                      UV7 (500)-H   V5 (500)-H     10.1197\n",
       "1                      UV9 (530)-H   V5 (500)-H      9.9789\n",
       "2                      UV7 (500)-H  UV9 (530)-H      9.9760\n",
       "3                       V5 (500)-H   V7 (530)-H      9.9632\n",
       "4                      UV7 (500)-H   V7 (530)-H      9.9603\n",
       "...                            ...          ...         ...\n",
       "39083   Long Axis Moment (Orange*)   R4 (725)-A      2.4136\n",
       "39084  Diffusivity (SSC (Imaging))  YG9 (750)-A      2.4135\n",
       "39085                   B1 (500)-H   R4 (725)-T      2.4134\n",
       "39086                Size (Green*)  V11 (605)-A      2.4133\n",
       "39087        Total Intensity (FSC)  YG8 (725)-A      2.4131\n",
       "\n",
       "[39088 rows x 3 columns]"
      ]
     },
     "execution_count": 27,
     "metadata": {},
     "output_type": "execute_result"
    }
   ],
   "source": [
    "mask = df_pair_fishers[\"fisher_avg\"] > fisher_mean\n",
    "df_pair_fisher_above_mean = df_pair_fishers[mask].reset_index(drop=True)\n",
    "\n",
    "df_pair_fisher_above_mean"
   ]
  },
  {
   "cell_type": "markdown",
   "metadata": {},
   "source": [
    "#### 2. For each channel selected by the previous step, select pairs with having fisher score above the 50% (median):"
   ]
  },
  {
   "cell_type": "code",
   "execution_count": 28,
   "metadata": {},
   "outputs": [],
   "source": [
    "def get_top_pairs(channel_list, df_fisher):\n",
    "    best_matches = []\n",
    "    for channel in tqdm(channel_list, desc=\"Proposing best matches\"):\n",
    "        ch_mask = df_fisher[\"channel_1\"] == channel\n",
    "        if ch_mask.sum() > 0:\n",
    "            channel_pairs = df_fisher[ch_mask].sort_values(\"fisher_avg\", ascending=False)\n",
    "            ch_threshold = np.quantile(channel_pairs[\"fisher_avg\"], 0.5)\n",
    "            top_matches = channel_pairs[channel_pairs[\"fisher_avg\"] >= ch_threshold]\n",
    "            best_matches.append(top_matches)\n",
    "\n",
    "    return pd.concat(best_matches).reset_index(drop=True)"
   ]
  },
  {
   "cell_type": "code",
   "execution_count": 29,
   "metadata": {},
   "outputs": [
    {
     "data": {
      "application/vnd.jupyter.widget-view+json": {
       "model_id": "7aff9b30f3104070be4ca16a86e8357a",
       "version_major": 2,
       "version_minor": 0
      },
      "text/plain": [
       "Proposing best matches:   0%|          | 0/421 [00:00<?, ?it/s]"
      ]
     },
     "metadata": {},
     "output_type": "display_data"
    },
    {
     "data": {
      "text/html": [
       "<div>\n",
       "<style scoped>\n",
       "    .dataframe tbody tr th:only-of-type {\n",
       "        vertical-align: middle;\n",
       "    }\n",
       "\n",
       "    .dataframe tbody tr th {\n",
       "        vertical-align: top;\n",
       "    }\n",
       "\n",
       "    .dataframe thead th {\n",
       "        text-align: right;\n",
       "    }\n",
       "</style>\n",
       "<table border=\"1\" class=\"dataframe\">\n",
       "  <thead>\n",
       "    <tr style=\"text-align: right;\">\n",
       "      <th></th>\n",
       "      <th>channel_1</th>\n",
       "      <th>channel_2</th>\n",
       "      <th>fisher_avg</th>\n",
       "    </tr>\n",
       "  </thead>\n",
       "  <tbody>\n",
       "    <tr>\n",
       "      <th>0</th>\n",
       "      <td>FSC-A</td>\n",
       "      <td>V5 (500)-H</td>\n",
       "      <td>5.5955</td>\n",
       "    </tr>\n",
       "    <tr>\n",
       "      <th>1</th>\n",
       "      <td>FSC-A</td>\n",
       "      <td>UV7 (500)-H</td>\n",
       "      <td>5.5927</td>\n",
       "    </tr>\n",
       "    <tr>\n",
       "      <th>2</th>\n",
       "      <td>FSC-A</td>\n",
       "      <td>UV9 (530)-H</td>\n",
       "      <td>5.4518</td>\n",
       "    </tr>\n",
       "    <tr>\n",
       "      <th>3</th>\n",
       "      <td>FSC-A</td>\n",
       "      <td>V7 (530)-H</td>\n",
       "      <td>5.4361</td>\n",
       "    </tr>\n",
       "    <tr>\n",
       "      <th>4</th>\n",
       "      <td>FSC-A</td>\n",
       "      <td>UV6 (475)-H</td>\n",
       "      <td>5.3687</td>\n",
       "    </tr>\n",
       "    <tr>\n",
       "      <th>...</th>\n",
       "      <td>...</td>\n",
       "      <td>...</td>\n",
       "      <td>...</td>\n",
       "    </tr>\n",
       "    <tr>\n",
       "      <th>19604</th>\n",
       "      <td>R8 (845)-H</td>\n",
       "      <td>UV18 (725)-W</td>\n",
       "      <td>2.5887</td>\n",
       "    </tr>\n",
       "    <tr>\n",
       "      <th>19605</th>\n",
       "      <td>R8 (845)-H</td>\n",
       "      <td>FSC-T</td>\n",
       "      <td>2.5883</td>\n",
       "    </tr>\n",
       "    <tr>\n",
       "      <th>19606</th>\n",
       "      <td>R8 (845)-H</td>\n",
       "      <td>R2 (675)-T</td>\n",
       "      <td>2.5876</td>\n",
       "    </tr>\n",
       "    <tr>\n",
       "      <th>19607</th>\n",
       "      <td>R8 (845)-H</td>\n",
       "      <td>UV8 (515)-T</td>\n",
       "      <td>2.5869</td>\n",
       "    </tr>\n",
       "    <tr>\n",
       "      <th>19608</th>\n",
       "      <td>R8 (845)-H</td>\n",
       "      <td>V18 (780)-T</td>\n",
       "      <td>2.5869</td>\n",
       "    </tr>\n",
       "  </tbody>\n",
       "</table>\n",
       "<p>19609 rows × 3 columns</p>\n",
       "</div>"
      ],
      "text/plain": [
       "        channel_1     channel_2  fisher_avg\n",
       "0           FSC-A    V5 (500)-H      5.5955\n",
       "1           FSC-A   UV7 (500)-H      5.5927\n",
       "2           FSC-A   UV9 (530)-H      5.4518\n",
       "3           FSC-A    V7 (530)-H      5.4361\n",
       "4           FSC-A   UV6 (475)-H      5.3687\n",
       "...           ...           ...         ...\n",
       "19604  R8 (845)-H  UV18 (725)-W      2.5887\n",
       "19605  R8 (845)-H         FSC-T      2.5883\n",
       "19606  R8 (845)-H    R2 (675)-T      2.5876\n",
       "19607  R8 (845)-H   UV8 (515)-T      2.5869\n",
       "19608  R8 (845)-H   V18 (780)-T      2.5869\n",
       "\n",
       "[19609 rows x 3 columns]"
      ]
     },
     "execution_count": 29,
     "metadata": {},
     "output_type": "execute_result"
    }
   ],
   "source": [
    "df_top_pairs = get_top_pairs(df_alive.columns.to_list(), df_pair_fisher_above_mean)\n",
    "df_top_pairs"
   ]
  },
  {
   "cell_type": "code",
   "execution_count": 30,
   "metadata": {},
   "outputs": [],
   "source": [
    "# save the top pairs\n",
    "df_top_pairs.to_csv(f\"./results/{target_species}_top_pairs.csv\", index=False)"
   ]
  },
  {
   "cell_type": "markdown",
   "metadata": {},
   "source": [
    "### Get the average vector of the alive samples (with images) for the target species."
   ]
  },
  {
   "cell_type": "code",
   "execution_count": 31,
   "metadata": {},
   "outputs": [
    {
     "data": {
      "text/plain": [
       "(540631, 421)"
      ]
     },
     "execution_count": 31,
     "metadata": {},
     "output_type": "execute_result"
    }
   ],
   "source": [
    "# get the target species data in logicle space\n",
    "df_positive_logicle = pd.read_hdf(logicle_samples[target_species], key=\"df\")\n",
    "df_positive_logicle.shape"
   ]
  },
  {
   "cell_type": "code",
   "execution_count": 32,
   "metadata": {},
   "outputs": [
    {
     "data": {
      "text/plain": [
       "(421, 4)"
      ]
     },
     "execution_count": 32,
     "metadata": {},
     "output_type": "execute_result"
    }
   ],
   "source": [
    "# get channel's logicle params\n",
    "df_logicle_params = pd.read_hdf(logicle_samples[target_species], key=\"logicles\")\n",
    "df_logicle_params.shape"
   ]
  },
  {
   "cell_type": "code",
   "execution_count": 33,
   "metadata": {},
   "outputs": [
    {
     "data": {
      "text/plain": [
       "(421,)"
      ]
     },
     "execution_count": 33,
     "metadata": {},
     "output_type": "execute_result"
    }
   ],
   "source": [
    "# alive (with tiffs) samples average vector\n",
    "target_alive_vector = df_alive.mean().to_numpy()\n",
    "# np.save(f\"./results/{target_species}_alive_vector.npy\", target_alive_vector)\n",
    "target_alive_vector.shape"
   ]
  },
  {
   "cell_type": "markdown",
   "metadata": {},
   "source": [
    "### Calculate the similarity between all samples with the alive average vector."
   ]
  },
  {
   "cell_type": "code",
   "execution_count": 34,
   "metadata": {},
   "outputs": [],
   "source": [
    "# calculate the cosine similarity between alive average vector and each row of data\n",
    "data = df_positive_logicle.to_numpy()\n",
    "sim_mat = np.dot(data, target_alive_vector)\n",
    "sim_mat /= (\n",
    "    np.linalg.norm(data, axis=1) *\n",
    "    np.linalg.norm(target_alive_vector)\n",
    ")\n",
    "# print(sim_mat.min(), sim_mat.max(), sim_mat.mean())\n",
    "\n",
    "# add weights to make a better distribution of the similarities\n",
    "weights = (sim_mat - np.mean(sim_mat))\n",
    "sim_mat = weights * sim_mat\n",
    "\n",
    "# scale similarity to the range of [0, 1]\n",
    "sim_mat = (sim_mat - sim_mat.min()) / (sim_mat.max() - sim_mat.min())\n",
    "# print(sim_mat.min(), sim_mat.max(), sim_mat.mean())"
   ]
  },
  {
   "cell_type": "markdown",
   "metadata": {},
   "source": [
    "### Set the threshold of the similarity:\n",
    "##### Higher threshold will produce tighter gate with more pure samples but less in numbers."
   ]
  },
  {
   "cell_type": "code",
   "execution_count": 35,
   "metadata": {},
   "outputs": [
    {
     "data": {
      "application/vnd.jupyter.widget-view+json": {
       "model_id": "abae6db8efb248f089ff14fc5ef7cebc",
       "version_major": 2,
       "version_minor": 0
      },
      "text/plain": [
       "FloatSlider(value=0.85, continuous_update=False, description='Similarity Threshold:', max=1.0, step=0.01)"
      ]
     },
     "metadata": {},
     "output_type": "display_data"
    }
   ],
   "source": [
    "# threshold the similarity\n",
    "threshold_slider = widgets.FloatSlider(\n",
    "    value=0.85,\n",
    "    min=0,\n",
    "    max=1.0,\n",
    "    step=0.01,\n",
    "    description=\"Similarity Threshold:\",\n",
    "    disabled=False,\n",
    "    continuous_update=False,\n",
    "    orientation=\"horizontal\",\n",
    "    readout=True,\n",
    "    readout_format='.2f',\n",
    ")\n",
    "display(threshold_slider)"
   ]
  },
  {
   "cell_type": "code",
   "execution_count": 36,
   "metadata": {},
   "outputs": [
    {
     "name": "stdout",
     "output_type": "stream",
     "text": [
      "0.9\n",
      "Alive-Similar data rows: 15,314\n"
     ]
    }
   ],
   "source": [
    "similarity_threshold = threshold_slider.value\n",
    "print(similarity_threshold)\n",
    "\n",
    "high_sim_mask = sim_mat > similarity_threshold\n",
    "np.save(f\"./results/{target_species}_high_sim_mask.npy\", high_sim_mask)\n",
    "print(f\"Alive-Similar data rows: {high_sim_mask.sum():,d}\")"
   ]
  },
  {
   "cell_type": "markdown",
   "metadata": {},
   "source": [
    "### Create the polygon gates for the selected top pairs:"
   ]
  },
  {
   "cell_type": "code",
   "execution_count": 37,
   "metadata": {},
   "outputs": [
    {
     "data": {
      "application/vnd.jupyter.widget-view+json": {
       "model_id": "f1426a11bb4a4b7e88e68c811cc08a64",
       "version_major": 2,
       "version_minor": 0
      },
      "text/plain": [
       "Calculate pairs' polygon gates (logicle):   0%|          | 0/19609 [00:00<?, ?it/s]"
      ]
     },
     "metadata": {},
     "output_type": "display_data"
    },
    {
     "data": {
      "text/plain": [
       "19609"
      ]
     },
     "execution_count": 37,
     "metadata": {},
     "output_type": "execute_result"
    }
   ],
   "source": [
    "logicle_polygon_gates = get_logicle_polygon_gates(df_top_pairs, df_positive_logicle, high_sim_mask)\n",
    "\n",
    "len(logicle_polygon_gates)"
   ]
  },
  {
   "cell_type": "code",
   "execution_count": 38,
   "metadata": {},
   "outputs": [],
   "source": [
    "# saving gates\n",
    "pairs = [\n",
    "    f\"{channels[0]}|{channels[1]}\" for channels in\n",
    "    df_top_pairs[[\"channel_1\", \"channel_2\"]].itertuples(index=False, name=None)\n",
    "]\n",
    "\n",
    "with open(f\"./results/{target_species}_top_gates.bin\", mode=\"wb\") as f:\n",
    "    pickle.dump({\n",
    "        pair:gate for pair, gate in zip(pairs, logicle_polygon_gates)\n",
    "    }, f)"
   ]
  },
  {
   "cell_type": "code",
   "execution_count": 145,
   "metadata": {},
   "outputs": [],
   "source": [
    "# to free up some memory\n",
    "\n",
    "del df_others\n",
    "del df_positive_logicle\n",
    "del weights\n",
    "del sim_mat\n",
    "del data"
   ]
  },
  {
   "cell_type": "markdown",
   "metadata": {},
   "source": [
    "### Calculate the precision for each pair/gate"
   ]
  },
  {
   "cell_type": "code",
   "execution_count": 39,
   "metadata": {},
   "outputs": [
    {
     "name": "stdout",
     "output_type": "stream",
     "text": [
      "(540631, 450) (1570348, 450)\n"
     ]
    }
   ],
   "source": [
    "# load raw data to make positive and negative dataframes\n",
    "df_positive = fk.Sample(sample_paths[target_species]).as_dataframe(source=\"raw\")\n",
    "\n",
    "df_negative = []\n",
    "for sample_name in logicle_samples:\n",
    "    fcs_file = sample_paths[sample_name]\n",
    "    if sample_name != target_species:\n",
    "        df_negative.append(\n",
    "            fk.Sample(fcs_file).as_dataframe(source=\"raw\")\n",
    "        )\n",
    "df_negative = pd.concat(df_negative)\n",
    "\n",
    "# !important: drop second level columns (pns)\n",
    "df_positive = df_positive.droplevel(level=1, axis=1)\n",
    "df_negative = df_negative.droplevel(level=1, axis=1)\n",
    "\n",
    "print(df_positive.shape, df_negative.shape)"
   ]
  },
  {
   "cell_type": "code",
   "execution_count": null,
   "metadata": {},
   "outputs": [],
   "source": [
    "# (Takes time!)\n",
    "df_precisions = get_pair_precisions(\n",
    "    df_top_pairs, logicle_polygon_gates, df_logicle_params,\n",
    "    df_positive, df_negative\n",
    ")"
   ]
  },
  {
   "cell_type": "code",
   "execution_count": 148,
   "metadata": {},
   "outputs": [
    {
     "data": {
      "text/html": [
       "<div>\n",
       "<style scoped>\n",
       "    .dataframe tbody tr th:only-of-type {\n",
       "        vertical-align: middle;\n",
       "    }\n",
       "\n",
       "    .dataframe tbody tr th {\n",
       "        vertical-align: top;\n",
       "    }\n",
       "\n",
       "    .dataframe thead th {\n",
       "        text-align: right;\n",
       "    }\n",
       "</style>\n",
       "<table border=\"1\" class=\"dataframe\">\n",
       "  <thead>\n",
       "    <tr style=\"text-align: right;\">\n",
       "      <th></th>\n",
       "      <th>channel_1</th>\n",
       "      <th>channel_2</th>\n",
       "      <th>fisher_avg</th>\n",
       "      <th>precision</th>\n",
       "      <th>TP</th>\n",
       "      <th>FP</th>\n",
       "    </tr>\n",
       "  </thead>\n",
       "  <tbody>\n",
       "    <tr>\n",
       "      <th>0</th>\n",
       "      <td>V14 (675)-H</td>\n",
       "      <td>B13 (750)-H</td>\n",
       "      <td>5.6545</td>\n",
       "      <td>95.02</td>\n",
       "      <td>15287</td>\n",
       "      <td>801</td>\n",
       "    </tr>\n",
       "    <tr>\n",
       "      <th>1</th>\n",
       "      <td>Size (Red*)</td>\n",
       "      <td>V13 (655)-A</td>\n",
       "      <td>5.2998</td>\n",
       "      <td>94.06</td>\n",
       "      <td>14373</td>\n",
       "      <td>907</td>\n",
       "    </tr>\n",
       "    <tr>\n",
       "      <th>2</th>\n",
       "      <td>UV16 (675)-H</td>\n",
       "      <td>B13 (750)-H</td>\n",
       "      <td>5.5856</td>\n",
       "      <td>93.28</td>\n",
       "      <td>16126</td>\n",
       "      <td>1162</td>\n",
       "    </tr>\n",
       "    <tr>\n",
       "      <th>3</th>\n",
       "      <td>Max Intensity (Red*)</td>\n",
       "      <td>V15 (700)-H</td>\n",
       "      <td>5.6049</td>\n",
       "      <td>90.85</td>\n",
       "      <td>15783</td>\n",
       "      <td>1590</td>\n",
       "    </tr>\n",
       "    <tr>\n",
       "      <th>4</th>\n",
       "      <td>Size (Red*)</td>\n",
       "      <td>V11 (605)-A</td>\n",
       "      <td>4.9734</td>\n",
       "      <td>90.83</td>\n",
       "      <td>13957</td>\n",
       "      <td>1409</td>\n",
       "    </tr>\n",
       "    <tr>\n",
       "      <th>...</th>\n",
       "      <td>...</td>\n",
       "      <td>...</td>\n",
       "      <td>...</td>\n",
       "      <td>...</td>\n",
       "      <td>...</td>\n",
       "      <td>...</td>\n",
       "    </tr>\n",
       "    <tr>\n",
       "      <th>19604</th>\n",
       "      <td>Delta CoM (LightLoss (Imaging)/Orange*)</td>\n",
       "      <td>ImgB1 (535)-H</td>\n",
       "      <td>3.1538</td>\n",
       "      <td>19.90</td>\n",
       "      <td>13936</td>\n",
       "      <td>56086</td>\n",
       "    </tr>\n",
       "    <tr>\n",
       "      <th>19605</th>\n",
       "      <td>LightLoss (Violet)-A</td>\n",
       "      <td>ImgB1 (535)-H</td>\n",
       "      <td>3.5288</td>\n",
       "      <td>19.84</td>\n",
       "      <td>16422</td>\n",
       "      <td>66365</td>\n",
       "    </tr>\n",
       "    <tr>\n",
       "      <th>19606</th>\n",
       "      <td>Short Axis Moment (SSC (Imaging))</td>\n",
       "      <td>Total Intensity (FSC)</td>\n",
       "      <td>3.7852</td>\n",
       "      <td>19.70</td>\n",
       "      <td>22832</td>\n",
       "      <td>93053</td>\n",
       "    </tr>\n",
       "    <tr>\n",
       "      <th>19607</th>\n",
       "      <td>FSC-A</td>\n",
       "      <td>Short Axis Moment (SSC (Imaging))</td>\n",
       "      <td>3.7220</td>\n",
       "      <td>18.81</td>\n",
       "      <td>17550</td>\n",
       "      <td>75776</td>\n",
       "    </tr>\n",
       "    <tr>\n",
       "      <th>19608</th>\n",
       "      <td>R5 (750)-H</td>\n",
       "      <td>R7 (810)-H</td>\n",
       "      <td>5.5809</td>\n",
       "      <td>17.79</td>\n",
       "      <td>8269</td>\n",
       "      <td>38218</td>\n",
       "    </tr>\n",
       "  </tbody>\n",
       "</table>\n",
       "<p>19609 rows × 6 columns</p>\n",
       "</div>"
      ],
      "text/plain": [
       "                                     channel_1  \\\n",
       "0                                  V14 (675)-H   \n",
       "1                                  Size (Red*)   \n",
       "2                                 UV16 (675)-H   \n",
       "3                         Max Intensity (Red*)   \n",
       "4                                  Size (Red*)   \n",
       "...                                        ...   \n",
       "19604  Delta CoM (LightLoss (Imaging)/Orange*)   \n",
       "19605                     LightLoss (Violet)-A   \n",
       "19606        Short Axis Moment (SSC (Imaging))   \n",
       "19607                                    FSC-A   \n",
       "19608                               R5 (750)-H   \n",
       "\n",
       "                               channel_2  fisher_avg  precision     TP     FP  \n",
       "0                            B13 (750)-H      5.6545      95.02  15287    801  \n",
       "1                            V13 (655)-A      5.2998      94.06  14373    907  \n",
       "2                            B13 (750)-H      5.5856      93.28  16126   1162  \n",
       "3                            V15 (700)-H      5.6049      90.85  15783   1590  \n",
       "4                            V11 (605)-A      4.9734      90.83  13957   1409  \n",
       "...                                  ...         ...        ...    ...    ...  \n",
       "19604                      ImgB1 (535)-H      3.1538      19.90  13936  56086  \n",
       "19605                      ImgB1 (535)-H      3.5288      19.84  16422  66365  \n",
       "19606              Total Intensity (FSC)      3.7852      19.70  22832  93053  \n",
       "19607  Short Axis Moment (SSC (Imaging))      3.7220      18.81  17550  75776  \n",
       "19608                         R7 (810)-H      5.5809      17.79   8269  38218  \n",
       "\n",
       "[19609 rows x 6 columns]"
      ]
     },
     "execution_count": 148,
     "metadata": {},
     "output_type": "execute_result"
    }
   ],
   "source": [
    "# df_precisions = df_precisions.sort_values(\"precision\", ascending=False).reset_index(drop=True)\n",
    "df_precisions"
   ]
  },
  {
   "cell_type": "code",
   "execution_count": 149,
   "metadata": {},
   "outputs": [],
   "source": [
    "df_precisions.to_csv(f\"./results/{target_species}_gate_precisions.csv\", index=False)"
   ]
  },
  {
   "cell_type": "code",
   "execution_count": 150,
   "metadata": {},
   "outputs": [
    {
     "data": {
      "image/png": "[encoded data removed]",
      "text/plain": [
       "<Figure size 750x650 with 1 Axes>"
      ]
     },
     "metadata": {},
     "output_type": "display_data"
    }
   ],
   "source": [
    "fig, ax = plt.subplots(1, 1, figsize=(7.5, 6.5))\n",
    "ax.scatter(\n",
    "    df_precisions[\"precision\"], df_precisions[\"fisher_avg\"],\n",
    "    color=\"dodgerblue\", s=11, lw=0\n",
    ")\n",
    "ax.set_title(target_species)\n",
    "ax.set_xlabel(\"Precision\")\n",
    "ax.set_ylabel(\"Fisher Ratio\")\n",
    "ax.grid(alpha=0.3)\n",
    "\n",
    "plt.show()"
   ]
  },
  {
   "cell_type": "code",
   "execution_count": null,
   "metadata": {},
   "outputs": [],
   "source": []
  }
 ],
 "metadata": {
  "kernelspec": {
   "display_name": "Python 3 (ipykernel)",
   "language": "python",
   "name": "python3"
  },
  "language_info": {
   "codemirror_mode": {
    "name": "ipython",
    "version": 3
   },
   "file_extension": ".py",
   "mimetype": "text/x-python",
   "name": "python",
   "nbconvert_exporter": "python",
   "pygments_lexer": "ipython3",
   "version": "3.9.18"
  }
 },
 "nbformat": 4,
 "nbformat_minor": 4
}
